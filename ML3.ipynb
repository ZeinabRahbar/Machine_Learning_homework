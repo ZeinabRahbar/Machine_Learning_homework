{
 "cells": [
  {
   "cell_type": "markdown",
   "id": "3c1ad917",
   "metadata": {},
   "source": [
    "# Q1"
   ]
  },
  {
   "cell_type": "code",
   "execution_count": 33,
   "id": "6590090d",
   "metadata": {},
   "outputs": [],
   "source": [
    "from matplotlib.image import imread\n",
    "from sklearn.metrics import accuracy_score, precision_score, recall_score, f1_score, confusion_matrix\n",
    "from sklearn.model_selection import cross_val_score\n",
    "import numpy as np\n",
    "import pandas"
   ]
  },
  {
   "cell_type": "code",
   "execution_count": 34,
   "id": "b0973542",
   "metadata": {},
   "outputs": [],
   "source": [
    "def load_images(path):\n",
    "    img = imread(path)\n",
    "    images = []\n",
    "    for i in range(34):\n",
    "        for j in range(33):\n",
    "            m = img[i * 16:(i + 1) * 16, j * 16:(j + 1) * 16]\n",
    "            if not (j == 32 and i >= 12):\n",
    "                images.append(np.squeeze(m.T.reshape(-1)))\n",
    "    return images"
   ]
  },
  {
   "cell_type": "code",
   "execution_count": 35,
   "id": "6e46e8e9",
   "metadata": {},
   "outputs": [],
   "source": [
    "def get_data():\n",
    "    trains = pandas.DataFrame()\n",
    "    tests = pandas.DataFrame()\n",
    "    for i in range(0, 5):\n",
    "        image_data = load_images(f\"usps_{i}.jpg\")\n",
    "        df = pandas.DataFrame(image_data)\n",
    "        train_df = pandas.DataFrame(image_data[0:int(0.5 * len(image_data))])\n",
    "        train_df[\"label\"] = i\n",
    "        test_df = pandas.DataFrame(image_data[int(0.5 * len(image_data)):])\n",
    "        test_df[\"label\"] = i\n",
    "        df.to_csv(path_or_buf=f\"{i}.csv\")\n",
    "        \n",
    "        trains = pandas.concat([trains.copy(), train_df])\n",
    "        tests = pandas.concat([tests.copy(), test_df])\n",
    "    \n",
    "    return trains, tests"
   ]
  },
  {
   "cell_type": "code",
   "execution_count": 36,
   "id": "69af8d50",
   "metadata": {},
   "outputs": [],
   "source": [
    "train, test = get_data()\n",
    "\n",
    "X_train, y_train = train.iloc[:, :-1], train['label']\n",
    "X_test, y_test = test.iloc[:, :-1], test['label']"
   ]
  },
  {
   "cell_type": "markdown",
   "id": "8fecba9a",
   "metadata": {},
   "source": [
    "# Q2"
   ]
  },
  {
   "cell_type": "code",
   "execution_count": 37,
   "id": "45155d32",
   "metadata": {},
   "outputs": [],
   "source": [
    "# Import necessary libraries\n",
    "import numpy as np\n",
    "\n",
    "# Define NaiveBayes class\n",
    "class NaiveBayes:\n",
    "    def __init__(self):\n",
    "        self.num_classes = None\n",
    "        self.prior = None\n",
    "        self.mean = None\n",
    "        self.var = None\n",
    "    \n",
    "    def fit(self, X_train, y_train):\n",
    "        # Calculate the number of classes and the number of features\n",
    "        self.num_classes = len(np.unique(y_train))\n",
    "        num_features = X_train.shape[1]\n",
    "        \n",
    "        # Initialize the prior, mean, and variance arrays\n",
    "        self.prior = np.zeros(self.num_classes)\n",
    "        self.mean = np.zeros((self.num_classes, num_features))\n",
    "        self.var = np.zeros((self.num_classes, num_features))\n",
    "        \n",
    "        # Calculate the prior probabilities for each class\n",
    "        for i in range(self.num_classes):\n",
    "            self.prior[i] = np.sum(y_train == i) / len(y_train)\n",
    "        \n",
    "        # Calculate the mean and variance for each feature in each class\n",
    "        for i in range(self.num_classes):\n",
    "            X_class = X_train[y_train == i]\n",
    "            self.mean[i] = np.mean(X_class, axis=0)\n",
    "            self.var[i] = np.var(X_class, axis=0)\n",
    "    \n",
    "    def predict(self, X_test):\n",
    "        # Calculate the log-likelihood for each class\n",
    "        log_likelihood = np.zeros(self.num_classes)\n",
    "        for i in range(self.num_classes):\n",
    "            \n",
    "            log_likelihood[i] = -0.5 * np.sum(np.log(2 * np.pi * self.var[i])\n",
    "                                               + ((X_test - self.mean[i]) ** 2) / self.var[i])\n",
    "        \n",
    "        # Calculate the log-posterior probability for each class\n",
    "        log_posterior = np.zeros(self.num_classes)\n",
    "        for i in range(self.num_classes):\n",
    "            log_posterior[i] = np.log(self.prior[i]) + log_likelihood[i]\n",
    "        \n",
    "        # Return the predicted class\n",
    "        return np.argmax(log_posterior)\n",
    "    \n",
    "    def score(self, X_test, y_test):\n",
    "\n",
    "        y_pred = []\n",
    "        \n",
    "        # loop through each 1D array in the 2D array\n",
    "        for i in range(len(X_test)):\n",
    "            x = X_test.iloc[i]\n",
    "            # call the predict function on the reshaped array\n",
    "            y_pre = nb.predict(x)\n",
    "            y_pred.append(y_pre)\n",
    "            # print the predicted value\n",
    "\n",
    "        t = np.array(y_test)\n",
    "        p = np.array(y_pred)\n",
    "\n",
    "        acc = np.mean(p==t) * 100\n",
    "        \n",
    "        return acc\n",
    "\n"
   ]
  },
  {
   "cell_type": "code",
   "execution_count": 38,
   "id": "6b241420",
   "metadata": {
    "scrolled": false
   },
   "outputs": [
    {
     "name": "stdout",
     "output_type": "stream",
     "text": [
      "Accuracy: 91.89%\n"
     ]
    }
   ],
   "source": [
    "from sklearn.model_selection import StratifiedKFold\n",
    "skf = StratifiedKFold(n_splits=5, shuffle=True, random_state=42)\n",
    "\n",
    "accs = []\n",
    "for i in range(10):\n",
    "    for train_index, test_index in skf.split(X_test, y_test):\n",
    "        X_train, X_val = X_test.iloc[train_index], X_test.iloc[test_index]\n",
    "        y_train, y_val = y_test.iloc[train_index], y_test.iloc[test_index]\n",
    "\n",
    "        # Create an instance of NaiveBayes\n",
    "        nb = NaiveBayes()\n",
    "\n",
    "        # Fit the model using your training data and labels\n",
    "        nb.fit(X_train, y_train)\n",
    "\n",
    "        # Compute the accuracy on the validation set\n",
    "        acc = nb.score(X_val, y_val)\n",
    "        accs.append(acc)\n",
    "        \n",
    "        \n",
    "        \n",
    "print(\"Accuracy: {:.2f}%\".format(np.mean(accs) ))\n"
   ]
  },
  {
   "cell_type": "markdown",
   "id": "bce9fbac",
   "metadata": {},
   "source": [
    "# Q3"
   ]
  },
  {
   "cell_type": "code",
   "execution_count": 39,
   "id": "00c507e1",
   "metadata": {},
   "outputs": [
    {
     "name": "stdout",
     "output_type": "stream",
     "text": [
      "Accuracy: 0.91%\n"
     ]
    }
   ],
   "source": [
    "from sklearn.model_selection import StratifiedKFold\n",
    "from sklearn.discriminant_analysis import QuadraticDiscriminantAnalysis\n",
    "from sklearn.model_selection import train_test_split\n",
    "\n",
    "# Train the QDA classifier using maximum likelihood parameter estimation\n",
    "qda = QuadraticDiscriminantAnalysis(store_covariance=True)\n",
    "\n",
    "\n",
    "\n",
    "skf = StratifiedKFold(n_splits=5, shuffle=True, random_state=42)\n",
    "\n",
    "accs = []\n",
    "for i in range(10):\n",
    "    for train_index, test_index in skf.split(X_test, y_test):\n",
    "        X_train, X_val = X_test.iloc[train_index], X_test.iloc[test_index]\n",
    "        y_train, y_val = y_test.iloc[train_index], y_test.iloc[test_index]\n",
    "\n",
    "        # Create an instance of QDA\n",
    "        # Fit the model using your training data and labels\n",
    "        qda.fit(X_train, y_train)\n",
    "\n",
    "        # Compute the accuracy on the validation set\n",
    "        acc = qda.score(X_val, y_val)\n",
    "        accs.append(acc)\n",
    "        \n",
    "print(\"Accuracy: {:.2f}%\".format(np.mean(accs) ))\n"
   ]
  },
  {
   "cell_type": "markdown",
   "id": "4f2aab5c",
   "metadata": {},
   "source": [
    "# Q4"
   ]
  },
  {
   "cell_type": "code",
   "execution_count": 40,
   "id": "08ba9fc9",
   "metadata": {
    "scrolled": true
   },
   "outputs": [
    {
     "name": "stdout",
     "output_type": "stream",
     "text": [
      "Accuracy: 0.94%\n"
     ]
    }
   ],
   "source": [
    "from sklearn.model_selection import StratifiedKFold\n",
    "from sklearn.discriminant_analysis import LinearDiscriminantAnalysis\n",
    "\n",
    "lda = LinearDiscriminantAnalysis()\n",
    "skf = StratifiedKFold(n_splits=5, shuffle=True, random_state=42)\n",
    "\n",
    "accs = []\n",
    "for i in range(10):\n",
    "    for train_index, test_index in skf.split(X_test, y_test):\n",
    "        X_train, X_val = X_test.iloc[train_index], X_test.iloc[test_index]\n",
    "        y_train, y_val = y_test.iloc[train_index], y_test.iloc[test_index]\n",
    "\n",
    "        # Fit the model using your training data and labels\n",
    "        lda.fit(X_train, y_train)\n",
    "\n",
    "        # Compute the accuracy on the validation set\n",
    "        acc = lda.score(X_val, y_val)\n",
    "        accs.append(acc)\n",
    "        \n",
    "print(\"Accuracy: {:.2f}%\".format(np.mean(accs) ))\n"
   ]
  },
  {
   "cell_type": "markdown",
   "id": "8de02453",
   "metadata": {},
   "source": [
    "# Q5"
   ]
  },
  {
   "cell_type": "code",
   "execution_count": 41,
   "id": "ac6f26e1",
   "metadata": {},
   "outputs": [
    {
     "name": "stdout",
     "output_type": "stream",
     "text": [
      "Accuracy: 0.89%\n"
     ]
    }
   ],
   "source": [
    "from sklearn.model_selection import StratifiedKFold\n",
    "from sklearn.tree import DecisionTreeClassifier\n",
    "\n",
    "dt = DecisionTreeClassifier()\n",
    "skf = StratifiedKFold(n_splits=5, shuffle=True, random_state=42)\n",
    "\n",
    "accs = []\n",
    "for i in range(10):\n",
    "    for train_index, test_index in skf.split(X_test, y_test):\n",
    "        X_train, X_val = X_test.iloc[train_index], X_test.iloc[test_index]\n",
    "        y_train, y_val = y_test.iloc[train_index], y_test.iloc[test_index]\n",
    "\n",
    "        # Fit the model using your training data and labels\n",
    "        dt.fit(X_train, y_train)\n",
    "\n",
    "        # Compute the accuracy on the validation set\n",
    "        acc = dt.score(X_val, y_val)\n",
    "        accs.append(acc)\n",
    "\n",
    "print(\"Accuracy: {:.2f}%\".format(np.mean(accs)))\n"
   ]
  },
  {
   "cell_type": "markdown",
   "id": "2c90b032",
   "metadata": {},
   "source": [
    "# Q6"
   ]
  },
  {
   "cell_type": "code",
   "execution_count": 42,
   "id": "54b80a37",
   "metadata": {},
   "outputs": [
    {
     "name": "stdout",
     "output_type": "stream",
     "text": [
      "Accuracy: 0.99%\n"
     ]
    }
   ],
   "source": [
    "from sklearn.model_selection import StratifiedKFold\n",
    "from sklearn.svm import SVC\n",
    "\n",
    "svm = SVC()\n",
    "skf = StratifiedKFold(n_splits=5, shuffle=True, random_state=42)\n",
    "\n",
    "accs = []\n",
    "for i in range(10):\n",
    "    for train_index, test_index in skf.split(X_test, y_test):\n",
    "        X_train, X_val = X_test.iloc[train_index], X_test.iloc[test_index]\n",
    "        y_train, y_val = y_test.iloc[train_index], y_test.iloc[test_index]\n",
    "\n",
    "        # Fit the model using your training data and labels\n",
    "        svm.fit(X_train, y_train)\n",
    "\n",
    "        # Compute the accuracy on the validation set\n",
    "        acc = svm.score(X_val, y_val)\n",
    "        accs.append(acc)\n",
    "\n",
    "print(\"Accuracy: {:.2f}%\".format(np.mean(accs)))\n"
   ]
  },
  {
   "cell_type": "markdown",
   "id": "c0d7b6ac",
   "metadata": {},
   "source": [
    "# Q7"
   ]
  },
  {
   "cell_type": "markdown",
   "id": "2f1c5d5c",
   "metadata": {},
   "source": [
    "# a"
   ]
  },
  {
   "cell_type": "code",
   "execution_count": 43,
   "id": "23c79da5",
   "metadata": {},
   "outputs": [
    {
     "name": "stdout",
     "output_type": "stream",
     "text": [
      "Accuracy: 0.94%\n"
     ]
    }
   ],
   "source": [
    "from sklearn.model_selection import StratifiedKFold\n",
    "from sklearn.discriminant_analysis import LinearDiscriminantAnalysis\n",
    "\n",
    "# استفاده از Stratified K-Fold برای ارزیابی دقت\n",
    "lda = LinearDiscriminantAnalysis()\n",
    "skf = StratifiedKFold(n_splits=5, shuffle=True, random_state=42)\n",
    "\n",
    "accs = []\n",
    "for i in range(10):\n",
    "    for train_index, test_index in skf.split(X_test, y_test):\n",
    "\n",
    "        X_train, X_val = X_test.iloc[train_index], X_test.iloc[test_index]\n",
    "        y_train, y_val = y_test.iloc[train_index], y_test.iloc[test_index]\n",
    "\n",
    "        # ایجاد یک نمونه از LDA\n",
    "        lda = LinearDiscriminantAnalysis(n_components=2)\n",
    "\n",
    "        # ساخت LDA object و اعمال آن بر روی داده ها\n",
    "        X_lda_train = lda.fit_transform(X_train, y_train)\n",
    "        X_lda_val = lda.transform(X_val)\n",
    "\n",
    "        # Fit the model using your training data and labels\n",
    "        lda.fit(X_train, y_train)\n",
    "\n",
    "        # Compute the accuracy on the validation set\n",
    "        acc = lda.score(X_val, y_val)\n",
    "        accs.append(acc)\n",
    "\n",
    "print(\"Accuracy: {:.2f}%\".format(np.mean(accs) ))\n"
   ]
  },
  {
   "cell_type": "markdown",
   "id": "08eb391c",
   "metadata": {},
   "source": [
    "# b"
   ]
  },
  {
   "cell_type": "code",
   "execution_count": 44,
   "id": "be5e6dfe",
   "metadata": {},
   "outputs": [
    {
     "name": "stdout",
     "output_type": "stream",
     "text": [
      "Accuracy: 0.64%\n"
     ]
    }
   ],
   "source": [
    "import numpy as np\n",
    "import pandas as pd\n",
    "from sklearn.model_selection import StratifiedKFold\n",
    "from sklearn.discriminant_analysis import LinearDiscriminantAnalysis\n",
    "from sklearn.decomposition import PCA\n",
    "\n",
    "\n",
    "\n",
    "# استفاده از Stratified K-Fold برای ارزیابی دقت\n",
    "skf = StratifiedKFold(n_splits=5, shuffle=True, random_state=42)\n",
    "\n",
    "accs = []\n",
    "for i in range(10):\n",
    "    for train_index, test_index in skf.split(X_test, y_test):\n",
    "\n",
    "        X_train, X_val = X_test.iloc[train_index], X_test.iloc[test_index]\n",
    "        y_train, y_val = y_test.iloc[train_index], y_test.iloc[test_index]\n",
    "\n",
    "        # ایجاد یک نمونه از PCA با تعداد ابعاد دلخواه\n",
    "        pca = PCA(n_components=2)\n",
    "\n",
    "        # کاهش بعد داده های آموزشی و تست\n",
    "        X_pca_train = pca.fit_transform(X_train)\n",
    "        X_pca_val = pca.transform(X_val)\n",
    "\n",
    "        # فیت مدل LDA\n",
    "        lda = LinearDiscriminantAnalysis()\n",
    "        lda.fit(X_pca_train, y_train)\n",
    "\n",
    "        # Compute the accuracy on the validation set\n",
    "        acc = lda.score(X_pca_val, y_val)\n",
    "        accs.append(acc)\n",
    "\n",
    "print(\"Accuracy: {:.2f}%\".format(np.mean(accs) ))\n"
   ]
  },
  {
   "cell_type": "markdown",
   "id": "a77de8cc",
   "metadata": {},
   "source": [
    "# Q8"
   ]
  },
  {
   "cell_type": "code",
   "execution_count": null,
   "id": "05dcf280",
   "metadata": {},
   "outputs": [],
   "source": []
  }
 ],
 "metadata": {
  "kernelspec": {
   "display_name": "Python 3 (ipykernel)",
   "language": "python",
   "name": "python3"
  },
  "language_info": {
   "codemirror_mode": {
    "name": "ipython",
    "version": 3
   },
   "file_extension": ".py",
   "mimetype": "text/x-python",
   "name": "python",
   "nbconvert_exporter": "python",
   "pygments_lexer": "ipython3",
   "version": "3.9.1"
  }
 },
 "nbformat": 4,
 "nbformat_minor": 5
}
