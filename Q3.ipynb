{
 "cells": [
  {
   "cell_type": "code",
   "execution_count": 7,
   "metadata": {
    "colab": {
     "base_uri": "https://localhost:8080/"
    },
    "id": "3JxY-voe4DEq",
    "outputId": "0fea22e8-bb4f-4952-8b2a-7d58b4f3f7b2"
   },
   "outputs": [
    {
     "name": "stdout",
     "output_type": "stream",
     "text": [
      "Epoch 1/10\n",
      "782/782 [==============================] - 8s 7ms/step - loss: 1.5647 - accuracy: 0.4259\n",
      "Epoch 2/10\n",
      "782/782 [==============================] - 5s 7ms/step - loss: 1.2125 - accuracy: 0.5656\n",
      "Epoch 3/10\n",
      "782/782 [==============================] - 5s 6ms/step - loss: 1.0780 - accuracy: 0.6187\n",
      "Epoch 4/10\n",
      "782/782 [==============================] - 5s 7ms/step - loss: 0.9818 - accuracy: 0.6559\n",
      "Epoch 5/10\n",
      "782/782 [==============================] - 5s 6ms/step - loss: 0.9063 - accuracy: 0.6819\n",
      "Epoch 6/10\n",
      "782/782 [==============================] - 4s 6ms/step - loss: 0.8614 - accuracy: 0.6988\n",
      "Epoch 7/10\n",
      "782/782 [==============================] - 5s 7ms/step - loss: 0.8018 - accuracy: 0.7191\n",
      "Epoch 8/10\n",
      "782/782 [==============================] - 5s 6ms/step - loss: 0.7624 - accuracy: 0.7338\n",
      "Epoch 9/10\n",
      "782/782 [==============================] - 7s 8ms/step - loss: 0.7267 - accuracy: 0.7461\n",
      "Epoch 10/10\n",
      "782/782 [==============================] - 5s 6ms/step - loss: 0.6943 - accuracy: 0.7564\n",
      "313/313 [==============================] - 1s 3ms/step - loss: 0.8541 - accuracy: 0.7111\n",
      "accuracy: 0.7110999822616577\n"
     ]
    }
   ],
   "source": [
    "from keras.datasets import cifar10\n",
    "from keras.models import Sequential\n",
    "from keras.layers import Conv2D, MaxPooling2D, Flatten, Dense\n",
    "from keras.utils import to_categorical\n",
    "\n",
    "(train_images, train_labels), (test_images, test_labels) = cifar10.load_data()\n",
    "\n",
    "train_images = train_images.astype('float32') / 255\n",
    "test_images = test_images.astype('float32') / 255\n",
    "train_labels = to_categorical(train_labels)\n",
    "test_labels = to_categorical(test_labels)\n",
    "\n",
    "model = Sequential()\n",
    "model.add(Conv2D(32, (3, 3), activation='relu', input_shape=(32, 32, 3)))\n",
    "model.add(MaxPooling2D((2, 2)))\n",
    "model.add(Conv2D(64, (3, 3), activation='relu'))\n",
    "model.add(MaxPooling2D((2, 2)))\n",
    "model.add(Conv2D(64, (3, 3), activation='relu'))\n",
    "model.add(Flatten())\n",
    "model.add(Dense(64, activation='relu'))\n",
    "model.add(Dense(10, activation='softmax'))\n",
    "\n",
    "model.compile(optimizer='adam', loss='categorical_crossentropy', metrics=['accuracy'])\n",
    "\n",
    "model.fit(train_images, train_labels, epochs=10, batch_size=64)\n",
    "\n",
    "test_loss, test_acc = model.evaluate(test_images, test_labels)\n",
    "print('accuracy:', test_acc)\n"
   ]
  },
  {
   "cell_type": "code",
   "execution_count": null,
   "metadata": {},
   "outputs": [],
   "source": [
    "#CNN  in the above cell"
   ]
  },
  {
   "cell_type": "code",
   "execution_count": null,
   "metadata": {},
   "outputs": [],
   "source": [
    "#VGG "
   ]
  },
  {
   "cell_type": "code",
   "execution_count": 8,
   "metadata": {
    "colab": {
     "base_uri": "https://localhost:8080/"
    },
    "id": "7_2K9x4i-MUZ",
    "outputId": "6c640dc0-61cb-4163-c4cb-8645d32cec38"
   },
   "outputs": [
    {
     "metadata": {
      "tags": null
     },
     "name": "stdout",
     "output_type": "stream",
     "text": [
      "Epoch 1/10\n",
      "782/782 [==============================] - 34s 36ms/step - loss: 1.8116 - accuracy: 0.2801\n",
      "Epoch 2/10\n",
      "782/782 [==============================] - 28s 36ms/step - loss: 1.2478 - accuracy: 0.5352\n",
      "Epoch 3/10\n",
      "782/782 [==============================] - 28s 36ms/step - loss: 0.9554 - accuracy: 0.6620\n",
      "Epoch 4/10\n",
      "782/782 [==============================] - 28s 36ms/step - loss: 0.7970 - accuracy: 0.7238\n",
      "Epoch 5/10\n",
      "782/782 [==============================] - 29s 36ms/step - loss: 0.6833 - accuracy: 0.7677\n",
      "Epoch 6/10\n",
      "782/782 [==============================] - 29s 36ms/step - loss: 0.5929 - accuracy: 0.8001\n",
      "Epoch 7/10\n",
      "782/782 [==============================] - 28s 36ms/step - loss: 0.5318 - accuracy: 0.8225\n",
      "Epoch 8/10\n",
      "782/782 [==============================] - 28s 36ms/step - loss: 0.4640 - accuracy: 0.8468\n",
      "Epoch 9/10\n",
      "782/782 [==============================] - 28s 36ms/step - loss: 0.4092 - accuracy: 0.8647\n",
      "Epoch 10/10\n",
      "782/782 [==============================] - 28s 36ms/step - loss: 0.3737 - accuracy: 0.8782\n",
      "313/313 [==============================] - 3s 9ms/step - loss: 0.7082 - accuracy: 0.7890\n",
      "Classification accuracy: 0.7889999747276306\n"
     ]
    }
   ],
   "source": [
    "from keras.applications.vgg16 import VGG16\n",
    "from keras.datasets import cifar10\n",
    "from keras.models import Sequential\n",
    "from keras.layers import Conv2D, MaxPooling2D, Flatten, Dense, Dropout\n",
    "from keras.utils import to_categorical\n",
    "\n",
    "\n",
    "# Load the pretrained VGG16 model without the fully connected layers\n",
    "pretrained_model = VGG16(weights='imagenet', include_top=False, input_shape=(32, 32, 3))\n",
    "\n",
    "# Create a new neural network model using the VGG16 layers and additional layers for classification\n",
    "model = Sequential()\n",
    "model.add(pretrained_model)\n",
    "model.add(Flatten())\n",
    "model.add(Dense(256, activation='relu'))\n",
    "model.add(Dense(10, activation='softmax'))\n",
    "\n",
    "# Compile the model\n",
    "model.compile(optimizer='adam', loss='categorical_crossentropy', metrics=['accuracy'])\n",
    "\n",
    "# Train the model\n",
    "model.fit(train_images, train_labels, epochs=10, batch_size=64)\n",
    "\n",
    "# Evaluate the model using test data\n",
    "test_loss, test_acc = model.evaluate(test_images, test_labels)\n",
    "print('Classification accuracy:', test_acc)\n"
   ]
  },
  {
   "cell_type": "code",
   "execution_count": null,
   "metadata": {},
   "outputs": [],
   "source": [
    "#CNN using dropout"
   ]
  },
  {
   "cell_type": "code",
   "execution_count": 9,
   "metadata": {
    "colab": {
     "base_uri": "https://localhost:8080/"
    },
    "id": "KWIgH2-W-MaF",
    "outputId": "6c60422d-dc76-492e-ada5-1fc7e3441bbe"
   },
   "outputs": [
    {
     "metadata": {
      "tags": null
     },
     "name": "stdout",
     "output_type": "stream",
     "text": [
      "Epoch 1/10\n",
      "782/782 [==============================] - 8s 6ms/step - loss: 1.6887 - accuracy: 0.3724\n",
      "Epoch 2/10\n",
      "782/782 [==============================] - 5s 6ms/step - loss: 1.3567 - accuracy: 0.5093\n",
      "Epoch 3/10\n",
      "782/782 [==============================] - 5s 7ms/step - loss: 1.2240 - accuracy: 0.5631\n",
      "Epoch 4/10\n",
      "782/782 [==============================] - 5s 6ms/step - loss: 1.1466 - accuracy: 0.5920\n",
      "Epoch 5/10\n",
      "782/782 [==============================] - 5s 7ms/step - loss: 1.0893 - accuracy: 0.6146\n",
      "Epoch 6/10\n",
      "782/782 [==============================] - 5s 7ms/step - loss: 1.0373 - accuracy: 0.6327\n",
      "Epoch 7/10\n",
      "782/782 [==============================] - 5s 7ms/step - loss: 1.0054 - accuracy: 0.6457\n",
      "Epoch 8/10\n",
      "782/782 [==============================] - 5s 6ms/step - loss: 0.9755 - accuracy: 0.6555\n",
      "Epoch 9/10\n",
      "782/782 [==============================] - 5s 6ms/step - loss: 0.9538 - accuracy: 0.6627\n",
      "Epoch 10/10\n",
      "782/782 [==============================] - 5s 7ms/step - loss: 0.9390 - accuracy: 0.6694\n",
      "313/313 [==============================] - 1s 3ms/step - loss: 0.8312 - accuracy: 0.7086\n",
      "accuracy: 0.7085999846458435\n"
     ]
    }
   ],
   "source": [
    "from keras.datasets import cifar10\n",
    "from keras.models import Sequential\n",
    "from keras.layers import Conv2D, MaxPooling2D, Flatten, Dense, Dropout\n",
    "from keras.utils import to_categorical\n",
    "\n",
    "model = Sequential()\n",
    "model.add(Conv2D(32, (3, 3), activation='relu', input_shape=(32, 32, 3)))\n",
    "model.add(MaxPooling2D((2, 2)))\n",
    "model.add(Dropout(0.25))  # Add dropout after pooling layer\n",
    "model.add(Conv2D(64, (3, 3), activation='relu'))\n",
    "model.add(MaxPooling2D((2, 2)))\n",
    "model.add(Dropout(0.25))  # Add dropout after pooling layer\n",
    "model.add(Conv2D(64, (3, 3), activation='relu'))\n",
    "model.add(Flatten())\n",
    "model.add(Dropout(0.5))  # Add dropout before dense layer\n",
    "model.add(Dense(64, activation='relu'))\n",
    "model.add(Dense(10, activation='softmax'))\n",
    "\n",
    "model.compile(optimizer='adam', loss='categorical_crossentropy', metrics=['accuracy'])\n",
    "\n",
    "model.fit(train_images, train_labels, epochs=10, batch_size=64)\n",
    "\n",
    "test_loss, test_acc = model.evaluate(test_images, test_labels)\n",
    "print('accuracy:', test_acc)\n"
   ]
  },
  {
   "cell_type": "code",
   "execution_count": null,
   "metadata": {},
   "outputs": [],
   "source": [
    "#VGG using dropout"
   ]
  },
  {
   "cell_type": "code",
   "execution_count": 10,
   "metadata": {
    "colab": {
     "base_uri": "https://localhost:8080/"
    },
    "id": "YObwYitA-MgD",
    "outputId": "f1e23966-19c1-40f6-8e2c-a9b5baadf128"
   },
   "outputs": [
    {
     "metadata": {
      "tags": null
     },
     "name": "stdout",
     "output_type": "stream",
     "text": [
      "Epoch 1/10\n",
      "782/782 [==============================] - 35s 36ms/step - loss: 1.8205 - accuracy: 0.2704\n",
      "Epoch 2/10\n",
      "782/782 [==============================] - 28s 36ms/step - loss: 1.3619 - accuracy: 0.4749\n",
      "Epoch 3/10\n",
      "782/782 [==============================] - 28s 36ms/step - loss: 1.1168 - accuracy: 0.5918\n",
      "Epoch 4/10\n",
      "782/782 [==============================] - 28s 36ms/step - loss: 0.8867 - accuracy: 0.6918\n",
      "Epoch 5/10\n",
      "782/782 [==============================] - 28s 36ms/step - loss: 0.7443 - accuracy: 0.7453\n",
      "Epoch 6/10\n",
      "782/782 [==============================] - 29s 37ms/step - loss: 0.6377 - accuracy: 0.7863\n",
      "Epoch 7/10\n",
      "782/782 [==============================] - 29s 37ms/step - loss: 0.5603 - accuracy: 0.8152\n",
      "Epoch 8/10\n",
      "782/782 [==============================] - 28s 36ms/step - loss: 0.4940 - accuracy: 0.8386\n",
      "Epoch 9/10\n",
      "782/782 [==============================] - 29s 36ms/step - loss: 0.4366 - accuracy: 0.8579\n",
      "Epoch 10/10\n",
      "782/782 [==============================] - 29s 37ms/step - loss: 0.3845 - accuracy: 0.8744\n",
      "313/313 [==============================] - 3s 9ms/step - loss: 0.6823 - accuracy: 0.7928\n",
      "Classification accuracy: 0.7928000092506409\n"
     ]
    }
   ],
   "source": [
    "from keras.applications.vgg16 import VGG16\n",
    "from keras.datasets import cifar10\n",
    "from keras.models import Sequential\n",
    "from keras.layers import Conv2D, MaxPooling2D, Flatten, Dense, Dropout\n",
    "from keras.utils import to_categorical\n",
    "\n",
    "\n",
    "# Load the pretrained VGG16 model without the fully connected layers\n",
    "pretrained_model = VGG16(weights='imagenet', include_top=False, input_shape=(32, 32, 3))\n",
    "\n",
    "# Create a new neural network model using the VGG16 layers and additional layers for classification\n",
    "model = Sequential()\n",
    "model.add(pretrained_model)\n",
    "model.add(Flatten())\n",
    "model.add(Dense(256, activation='relu'))\n",
    "model.add(Dropout(0.1))  # Add dropout layer with a rate of 0.5\n",
    "model.add(Dense(10, activation='softmax'))\n",
    "\n",
    "# Compile the model\n",
    "model.compile(optimizer='adam', loss='categorical_crossentropy', metrics=['accuracy'])\n",
    "\n",
    "# Train the model\n",
    "model.fit(train_images, train_labels, epochs=10, batch_size=64)\n",
    "\n",
    "# Evaluate the model using test data\n",
    "test_loss, test_acc = model.evaluate(test_images, test_labels)\n",
    "print('Classification accuracy:', test_acc)\n"
   ]
  },
  {
   "cell_type": "code",
   "execution_count": null,
   "metadata": {},
   "outputs": [],
   "source": [
    "#CNN using data augmentation "
   ]
  },
  {
   "cell_type": "code",
   "execution_count": 11,
   "metadata": {
    "colab": {
     "base_uri": "https://localhost:8080/"
    },
    "id": "dHF-RsNg-Mma",
    "outputId": "3c417e83-f487-4441-da93-86bb690e80fe"
   },
   "outputs": [
    {
     "metadata": {
      "tags": null
     },
     "name": "stdout",
     "output_type": "stream",
     "text": [
      "Epoch 1/10\n",
      "781/781 [==============================] - 33s 40ms/step - loss: 1.6930 - accuracy: 0.3753\n",
      "Epoch 2/10\n",
      "781/781 [==============================] - 32s 40ms/step - loss: 1.3930 - accuracy: 0.4948\n",
      "Epoch 3/10\n",
      "781/781 [==============================] - 33s 42ms/step - loss: 1.2556 - accuracy: 0.5498\n",
      "Epoch 4/10\n",
      "781/781 [==============================] - 31s 39ms/step - loss: 1.1682 - accuracy: 0.5836\n",
      "Epoch 5/10\n",
      "781/781 [==============================] - 29s 37ms/step - loss: 1.1054 - accuracy: 0.6075\n",
      "Epoch 6/10\n",
      "781/781 [==============================] - 29s 37ms/step - loss: 1.0601 - accuracy: 0.6241\n",
      "Epoch 7/10\n",
      "781/781 [==============================] - 29s 37ms/step - loss: 1.0376 - accuracy: 0.6318\n",
      "Epoch 8/10\n",
      "781/781 [==============================] - 29s 37ms/step - loss: 0.9968 - accuracy: 0.6481\n",
      "Epoch 9/10\n",
      "781/781 [==============================] - 30s 39ms/step - loss: 0.9676 - accuracy: 0.6587\n",
      "Epoch 10/10\n",
      "781/781 [==============================] - 31s 39ms/step - loss: 0.9426 - accuracy: 0.6685\n",
      "313/313 [==============================] - 1s 3ms/step - loss: 0.9214 - accuracy: 0.6782\n",
      "accuracy: 0.6782000064849854\n"
     ]
    }
   ],
   "source": [
    "from keras.datasets import cifar10\n",
    "from keras.models import Sequential\n",
    "from keras.layers import Conv2D, MaxPooling2D, Flatten, Dense\n",
    "from keras.utils import to_categorical\n",
    "from keras.preprocessing.image import ImageDataGenerator\n",
    "\n",
    "\n",
    "# Data augmentation\n",
    "datagen = ImageDataGenerator(\n",
    "    rotation_range=15,\n",
    "    width_shift_range=0.1,\n",
    "    height_shift_range=0.1,\n",
    "    horizontal_flip=True\n",
    ")\n",
    "datagen.fit(train_images)\n",
    "\n",
    "model = Sequential()\n",
    "model.add(Conv2D(32, (3, 3), activation='relu', input_shape=(32, 32, 3)))\n",
    "model.add(MaxPooling2D((2, 2)))\n",
    "model.add(Conv2D(64, (3, 3), activation='relu'))\n",
    "model.add(MaxPooling2D((2, 2)))\n",
    "model.add(Conv2D(64, (3, 3), activation='relu'))\n",
    "model.add(Flatten())\n",
    "model.add(Dense(64, activation='relu'))\n",
    "model.add(Dense(10, activation='softmax'))\n",
    "\n",
    "model.compile(optimizer='adam', loss='categorical_crossentropy', metrics=['accuracy'])\n",
    "\n",
    "model.fit(datagen.flow(train_images, train_labels, batch_size=64),\n",
    "          steps_per_epoch=len(train_images) // 64,\n",
    "          epochs=10)\n",
    "\n",
    "test_loss, test_acc = model.evaluate(test_images, test_labels)\n",
    "print('accuracy:', test_acc)\n"
   ]
  },
  {
   "cell_type": "code",
   "execution_count": null,
   "metadata": {},
   "outputs": [],
   "source": [
    "#VGG using data augmentation "
   ]
  },
  {
   "cell_type": "code",
   "execution_count": 12,
   "metadata": {
    "colab": {
     "base_uri": "https://localhost:8080/"
    },
    "id": "alVBobqf-Mqp",
    "outputId": "73f8f6cd-cf32-466c-ea4f-cf191457d5c2",
    "scrolled": true
   },
   "outputs": [
    {
     "metadata": {
      "tags": null
     },
     "name": "stdout",
     "output_type": "stream",
     "text": [
      "Epoch 1/10\n",
      "781/781 [==============================] - 44s 49ms/step - loss: 1.8853 - accuracy: 0.2466\n",
      "Epoch 2/10\n",
      "781/781 [==============================] - 37s 48ms/step - loss: 1.3826 - accuracy: 0.4773\n",
      "Epoch 3/10\n",
      "781/781 [==============================] - 38s 49ms/step - loss: 1.1153 - accuracy: 0.6041\n",
      "Epoch 4/10\n",
      "781/781 [==============================] - 39s 50ms/step - loss: 0.9676 - accuracy: 0.6667\n",
      "Epoch 5/10\n",
      "781/781 [==============================] - 38s 49ms/step - loss: 0.8849 - accuracy: 0.7020\n",
      "Epoch 6/10\n",
      "781/781 [==============================] - 38s 48ms/step - loss: 0.8105 - accuracy: 0.7283\n",
      "Epoch 7/10\n",
      "781/781 [==============================] - 37s 47ms/step - loss: 0.7536 - accuracy: 0.7500\n",
      "Epoch 8/10\n",
      "781/781 [==============================] - 37s 47ms/step - loss: 0.7199 - accuracy: 0.7644\n",
      "Epoch 9/10\n",
      "781/781 [==============================] - 37s 48ms/step - loss: 0.6808 - accuracy: 0.7761\n",
      "Epoch 10/10\n",
      "781/781 [==============================] - 37s 47ms/step - loss: 0.6505 - accuracy: 0.7865\n",
      "313/313 [==============================] - 3s 9ms/step - loss: 0.6457 - accuracy: 0.7915\n",
      "Classification accuracy: 0.7914999723434448\n"
     ]
    }
   ],
   "source": [
    "from keras.applications.vgg16 import VGG16\n",
    "from keras.datasets import cifar10\n",
    "from keras.models import Sequential\n",
    "from keras.layers import Conv2D, MaxPooling2D, Flatten, Dense, Dropout\n",
    "from keras.utils import to_categorical\n",
    "from keras.preprocessing.image import ImageDataGenerator\n",
    "\n",
    "# Data augmentation\n",
    "datagen = ImageDataGenerator(\n",
    "    rotation_range=15,\n",
    "    width_shift_range=0.1,\n",
    "    height_shift_range=0.1,\n",
    "    horizontal_flip=True\n",
    ")\n",
    "datagen.fit(train_images)\n",
    "\n",
    "# Load the pretrained VGG16 model without the fully connected layers\n",
    "pretrained_model = VGG16(weights='imagenet', include_top=False, input_shape=(32, 32, 3))\n",
    "\n",
    "# Create a new neural network model using the VGG16 layers and additional layers for classification\n",
    "model = Sequential()\n",
    "model.add(pretrained_model)\n",
    "model.add(Flatten())\n",
    "model.add(Dense(256, activation='relu'))\n",
    "model.add(Dense(10, activation='softmax'))\n",
    "\n",
    "# Compile the model\n",
    "model.compile(optimizer='adam', loss='categorical_crossentropy', metrics=['accuracy'])\n",
    "\n",
    "# Train the model with augmented data\n",
    "model.fit(datagen.flow(train_images, train_labels, batch_size=64),\n",
    "          steps_per_epoch=len(train_images) // 64,\n",
    "          epochs=10)\n",
    "\n",
    "# Evaluate the model using test data\n",
    "test_loss, test_acc = model.evaluate(test_images, test_labels)\n",
    "print('Classification accuracy:', test_acc)\n"
   ]
  },
  {
   "cell_type": "code",
   "execution_count": null,
   "metadata": {},
   "outputs": [],
   "source": [
    "#CNN using data augmentation and dropout"
   ]
  },
  {
   "cell_type": "code",
   "execution_count": 13,
   "metadata": {
    "colab": {
     "base_uri": "https://localhost:8080/"
    },
    "id": "fQjhaGkM4htx",
    "outputId": "382210d9-7847-4ecc-eb09-6660e60eceb3"
   },
   "outputs": [
    {
     "name": "stdout",
     "output_type": "stream",
     "text": [
      "Epoch 1/10\n",
      "781/781 [==============================] - 30s 36ms/step - loss: 1.8565 - accuracy: 0.3005\n",
      "Epoch 2/10\n",
      "781/781 [==============================] - 29s 37ms/step - loss: 1.5637 - accuracy: 0.4283\n",
      "Epoch 3/10\n",
      "781/781 [==============================] - 28s 36ms/step - loss: 1.4657 - accuracy: 0.4722\n",
      "Epoch 4/10\n",
      "781/781 [==============================] - 29s 37ms/step - loss: 1.3974 - accuracy: 0.5010\n",
      "Epoch 5/10\n",
      "781/781 [==============================] - 29s 37ms/step - loss: 1.3448 - accuracy: 0.5225\n",
      "Epoch 6/10\n",
      "781/781 [==============================] - 29s 37ms/step - loss: 1.3073 - accuracy: 0.5358\n",
      "Epoch 7/10\n",
      "781/781 [==============================] - 28s 36ms/step - loss: 1.2800 - accuracy: 0.5485\n",
      "Epoch 8/10\n",
      "781/781 [==============================] - 28s 36ms/step - loss: 1.2431 - accuracy: 0.5628\n",
      "Epoch 9/10\n",
      "781/781 [==============================] - 30s 38ms/step - loss: 1.2143 - accuracy: 0.5771\n",
      "Epoch 10/10\n",
      "781/781 [==============================] - 30s 38ms/step - loss: 1.1946 - accuracy: 0.5842\n",
      "313/313 [==============================] - 1s 3ms/step - loss: 0.9573 - accuracy: 0.6692\n",
      "accuracy: 0.6692000031471252\n"
     ]
    }
   ],
   "source": [
    "from keras.datasets import cifar10\n",
    "from keras.models import Sequential\n",
    "from keras.layers import Conv2D, MaxPooling2D, Flatten, Dense, Dropout\n",
    "from keras.utils import to_categorical\n",
    "from keras.preprocessing.image import ImageDataGenerator\n",
    "\n",
    "# Data augmentation\n",
    "datagen = ImageDataGenerator(\n",
    "    rotation_range=15,\n",
    "    width_shift_range=0.1,\n",
    "    height_shift_range=0.1,\n",
    "    horizontal_flip=True\n",
    ")\n",
    "datagen.fit(train_images)\n",
    "\n",
    "model = Sequential()\n",
    "model.add(Conv2D(32, (3, 3), activation='relu', input_shape=(32, 32, 3)))\n",
    "model.add(MaxPooling2D((2, 2)))\n",
    "model.add(Dropout(0.25))  # Add dropout after pooling layer\n",
    "model.add(Conv2D(64, (3, 3), activation='relu'))\n",
    "model.add(MaxPooling2D((2, 2)))\n",
    "model.add(Dropout(0.25))  # Add dropout after pooling layer\n",
    "model.add(Conv2D(64, (3, 3), activation='relu'))\n",
    "model.add(Flatten())\n",
    "model.add(Dense(64, activation='relu'))\n",
    "model.add(Dropout(0.5))  # Add dropout before the final dense layer\n",
    "model.add(Dense(10, activation='softmax'))\n",
    "\n",
    "model.compile(optimizer='adam', loss='categorical_crossentropy', metrics=['accuracy'])\n",
    "\n",
    "model.fit(datagen.flow(train_images, train_labels, batch_size=64),\n",
    "          steps_per_epoch=len(train_images) // 64,\n",
    "          epochs=10)\n",
    "\n",
    "test_loss, test_acc = model.evaluate(test_images, test_labels)\n",
    "print('accuracy:', test_acc)\n"
   ]
  },
  {
   "cell_type": "code",
   "execution_count": null,
   "metadata": {},
   "outputs": [],
   "source": [
    "#VGG using data augmentation and dropout"
   ]
  },
  {
   "cell_type": "code",
   "execution_count": 14,
   "metadata": {
    "colab": {
     "base_uri": "https://localhost:8080/"
    },
    "id": "q3Q_XfVcCh8z",
    "outputId": "70d3fcc7-18b4-4506-929c-f586cba62f1d"
   },
   "outputs": [
    {
     "metadata": {
      "tags": null
     },
     "name": "stdout",
     "output_type": "stream",
     "text": [
      "Epoch 1/10\n",
      "781/781 [==============================] - 46s 52ms/step - loss: 2.3047 - accuracy: 0.0994\n",
      "Epoch 2/10\n",
      "781/781 [==============================] - 39s 49ms/step - loss: 2.3028 - accuracy: 0.0997\n",
      "Epoch 3/10\n",
      "781/781 [==============================] - 38s 48ms/step - loss: 2.3027 - accuracy: 0.0974\n",
      "Epoch 4/10\n",
      "781/781 [==============================] - 38s 49ms/step - loss: 2.3027 - accuracy: 0.0992\n",
      "Epoch 5/10\n",
      "781/781 [==============================] - 40s 51ms/step - loss: 2.3027 - accuracy: 0.0972\n",
      "Epoch 6/10\n",
      "781/781 [==============================] - 39s 50ms/step - loss: 2.3027 - accuracy: 0.0971\n",
      "Epoch 7/10\n",
      "781/781 [==============================] - 39s 50ms/step - loss: 2.3027 - accuracy: 0.0994\n",
      "Epoch 8/10\n",
      "781/781 [==============================] - 38s 49ms/step - loss: 2.3028 - accuracy: 0.0979\n",
      "Epoch 9/10\n",
      "781/781 [==============================] - 39s 50ms/step - loss: 2.3028 - accuracy: 0.0993\n",
      "Epoch 10/10\n",
      "781/781 [==============================] - 38s 48ms/step - loss: 2.3027 - accuracy: 0.0957\n",
      "313/313 [==============================] - 3s 9ms/step - loss: 2.3026 - accuracy: 0.1000\n",
      "Classification accuracy: 0.10000000149011612\n"
     ]
    }
   ],
   "source": [
    "from keras.applications.vgg16 import VGG16\n",
    "from keras.datasets import cifar10\n",
    "from keras.models import Sequential\n",
    "from keras.layers import Conv2D, MaxPooling2D, Flatten, Dense, Dropout\n",
    "from keras.utils import to_categorical\n",
    "from keras.preprocessing.image import ImageDataGenerator\n",
    "\n",
    "# Data augmentation\n",
    "datagen = ImageDataGenerator(\n",
    "    rotation_range=15,\n",
    "    width_shift_range=0.1,\n",
    "    height_shift_range=0.1,\n",
    "    horizontal_flip=True\n",
    ")\n",
    "datagen.fit(train_images)\n",
    "\n",
    "# Load the pretrained VGG16 model without the fully connected layers\n",
    "pretrained_model = VGG16(weights='imagenet', include_top=False, input_shape=(32, 32, 3))\n",
    "\n",
    "# Create a new neural network model using the VGG16 layers and additional layers for classification\n",
    "model = Sequential()\n",
    "model.add(pretrained_model)\n",
    "model.add(Flatten())\n",
    "model.add(Dense(256, activation='relu'))\n",
    "model.add(Dropout(0.5))  # Add dropout layer\n",
    "model.add(Dense(10, activation='softmax'))\n",
    "\n",
    "# Compile the model\n",
    "model.compile(optimizer='adam', loss='categorical_crossentropy', metrics=['accuracy'])\n",
    "\n",
    "# Train the model with augmented data\n",
    "model.fit(datagen.flow(train_images, train_labels, batch_size=64),\n",
    "          steps_per_epoch=len(train_images) // 64,\n",
    "          epochs=10)\n",
    "\n",
    "# Evaluate the model using test data\n",
    "test_loss, test_acc = model.evaluate(test_images, test_labels)\n",
    "print('Classification accuracy:', test_acc)\n"
   ]
  }
 ],
 "metadata": {
  "accelerator": "GPU",
  "colab": {
   "gpuType": "T4",
   "provenance": []
  },
  "kernelspec": {
   "display_name": "Python 3 (ipykernel)",
   "language": "python",
   "name": "python3"
  },
  "language_info": {
   "codemirror_mode": {
    "name": "ipython",
    "version": 3
   },
   "file_extension": ".py",
   "mimetype": "text/x-python",
   "name": "python",
   "nbconvert_exporter": "python",
   "pygments_lexer": "ipython3",
   "version": "3.9.1"
  }
 },
 "nbformat": 4,
 "nbformat_minor": 1
}
