{
 "cells": [
  {
   "cell_type": "markdown",
   "id": "1eb355e3",
   "metadata": {},
   "source": [
    "# Q1"
   ]
  },
  {
   "cell_type": "markdown",
   "id": "0f89a9c1",
   "metadata": {},
   "source": [
    "# a"
   ]
  },
  {
   "cell_type": "code",
   "execution_count": 1,
   "id": "9ba76a31",
   "metadata": {},
   "outputs": [],
   "source": [
    "def mean_squared_error(y_true, y_pred):\n",
    "    n = len(y_true)\n",
    "    squared_error = sum((y_true[i] - y_pred[i]) ** 2 for i in range(n))\n",
    "    mse = squared_error / n\n",
    "    return mse\n"
   ]
  },
  {
   "cell_type": "code",
   "execution_count": 2,
   "id": "1a4e1c7a",
   "metadata": {},
   "outputs": [
    {
     "name": "stdout",
     "output_type": "stream",
     "text": [
      "Parameter a: -0.49656258191931624\n",
      "Parameter b: 4.1381441796724205\n",
      "Parameter c: 1.9413233324033774\n",
      "MSE = 4.742024167675923\n"
     ]
    }
   ],
   "source": [
    "import numpy as np\n",
    "\n",
    "# داده‌های آموزشی\n",
    "x = np.array([0.5, 0.7, 1, 1.5, 2, 2.7, 3, 3.3, 4, 4.3])\n",
    "y = np.array([2, 3, 8, 10, 10.3, 5.5, 8, 11, 10.2, 12])\n",
    "\n",
    "# تبدیل x به توان دوم\n",
    "x_squared = np.square(x)\n",
    "\n",
    "# تعریف ماتریس طراحی X با توجه به مقادیر x، x^2 و یک\n",
    "X = np.column_stack((x_squared, x, np.ones_like(x)))\n",
    "\n",
    "\n",
    "0\n",
    "# حل معادله‌ی (X^T * X)^(-1) * X^T * Y برای پیدا کردن پارامترهای a، b و c\n",
    "params = np.linalg.inv(X.T @ X) @ X.T @ y\n",
    "\n",
    "# مقادیر پارامترهای a، b و c را با استفاده از params به دست می‌آوریم\n",
    "a, b, c = params\n",
    "\n",
    "# چاپ پارامترهای مدل ۱\n",
    "print(f\"Parameter a: {a}\")\n",
    "print(f\"Parameter b: {b}\")\n",
    "print(f\"Parameter c: {c}\")\n",
    "\n",
    "# تابعی برای پیش‌بینی مقدار y برای یک مقدار x دلخواه\n",
    "def predict(x):\n",
    "    return a * (x ** 2) + b * x + c\n",
    "\n",
    "MSE = mean_squared_error(y, predict(x))\n",
    "print(\"MSE =\",MSE)\n"
   ]
  },
  {
   "cell_type": "code",
   "execution_count": 3,
   "id": "9df4c428",
   "metadata": {},
   "outputs": [
    {
     "data": {
      "text/plain": [
       "array([[ 0.25,  0.5 ,  1.  ],\n",
       "       [ 0.49,  0.7 ,  1.  ],\n",
       "       [ 1.  ,  1.  ,  1.  ],\n",
       "       [ 2.25,  1.5 ,  1.  ],\n",
       "       [ 4.  ,  2.  ,  1.  ],\n",
       "       [ 7.29,  2.7 ,  1.  ],\n",
       "       [ 9.  ,  3.  ,  1.  ],\n",
       "       [10.89,  3.3 ,  1.  ],\n",
       "       [16.  ,  4.  ,  1.  ],\n",
       "       [18.49,  4.3 ,  1.  ]])"
      ]
     },
     "execution_count": 3,
     "metadata": {},
     "output_type": "execute_result"
    }
   ],
   "source": [
    "X"
   ]
  },
  {
   "cell_type": "code",
   "execution_count": 4,
   "id": "6ed86480",
   "metadata": {},
   "outputs": [
    {
     "data": {
      "text/plain": [
       "array([[ 0.05653098, -0.26562814,  0.21714992],\n",
       "       [-0.26562814,  1.30780114, -1.15757702],\n",
       "       [ 0.21714992, -1.15757702,  1.24976077]])"
      ]
     },
     "execution_count": 4,
     "metadata": {},
     "output_type": "execute_result"
    }
   ],
   "source": [
    "np.linalg.inv(X.T @ X) "
   ]
  },
  {
   "cell_type": "code",
   "execution_count": 5,
   "id": "d3f19778",
   "metadata": {},
   "outputs": [
    {
     "data": {
      "text/plain": [
       "array([690.635, 214.25 ,  80.   ])"
      ]
     },
     "execution_count": 5,
     "metadata": {},
     "output_type": "execute_result"
    }
   ],
   "source": [
    " X.T @ y"
   ]
  },
  {
   "cell_type": "code",
   "execution_count": 6,
   "id": "6968757b",
   "metadata": {},
   "outputs": [
    {
     "data": {
      "text/plain": [
       "array([-0.49656258,  4.13814418,  1.94132333])"
      ]
     },
     "execution_count": 6,
     "metadata": {},
     "output_type": "execute_result"
    }
   ],
   "source": [
    "np.linalg.inv(X.T @ X) @ X.T @ y"
   ]
  },
  {
   "cell_type": "markdown",
   "id": "8d087af9",
   "metadata": {},
   "source": [
    "# b"
   ]
  },
  {
   "cell_type": "code",
   "execution_count": 7,
   "id": "2d523346",
   "metadata": {},
   "outputs": [
    {
     "name": "stdout",
     "output_type": "stream",
     "text": [
      "Parameter a: 1.2418175213131801\n",
      "Parameter b: -9.531062856068143\n",
      "Parameter c: 22.631149749251932\n",
      "Parameter d: -7.333973874728679\n",
      "MSE = 2.207647400574844\n"
     ]
    }
   ],
   "source": [
    "import numpy as np\n",
    "from sklearn.metrics import mean_squared_error\n",
    "\n",
    "# داده‌های آموزشی\n",
    "x = np.array([0.5, 0.7, 1, 1.5, 2, 2.7, 3, 3.3, 4, 4.3])\n",
    "y = np.array([2, 3, 8, 10, 10.3, 5.5, 8, 11, 10.2, 12])\n",
    "\n",
    "# تبدیل x به توان های بالاتر\n",
    "x_cube = np.power(x, 3)\n",
    "x_squared = np.square(x)\n",
    "\n",
    "# تعریف ماتریس طراحی X با توجه به مقادیر x، x^2، x^3 و یک\n",
    "X = np.column_stack((x_cube, x_squared, x, np.ones_like(x)))\n",
    "\n",
    "# حل معادله‌ی (X^T * X)^(-1) * X^T * Y برای پیدا کردن پارامترهای a، b، c و d\n",
    "params = np.linalg.inv(X.T @ X) @ X.T @ y\n",
    "\n",
    "# مقادیر پارامترهای a، b، c و d را با استفاده از params به دست می‌آوریم\n",
    "a, b, c, d = params\n",
    "\n",
    "# چاپ پارامترهای مدل ۲\n",
    "print(f\"Parameter a: {a}\")\n",
    "print(f\"Parameter b: {b}\")\n",
    "print(f\"Parameter c: {c}\")\n",
    "print(f\"Parameter d: {d}\")\n",
    "\n",
    "# تابعی برای پیش‌بینی مقدار y برای یک مقدار x دلخواه\n",
    "def predict(x):\n",
    "    return a * (x ** 3) + b * (x ** 2) + c * x + d\n",
    "\n",
    "MSE = mean_squared_error(y, predict(x))\n",
    "print(\"MSE =\", MSE)\n"
   ]
  },
  {
   "cell_type": "code",
   "execution_count": 8,
   "id": "d75232f9",
   "metadata": {},
   "outputs": [
    {
     "data": {
      "text/plain": [
       "array([[ 0.125,  0.25 ,  0.5  ,  1.   ],\n",
       "       [ 0.343,  0.49 ,  0.7  ,  1.   ],\n",
       "       [ 1.   ,  1.   ,  1.   ,  1.   ],\n",
       "       [ 3.375,  2.25 ,  1.5  ,  1.   ],\n",
       "       [ 8.   ,  4.   ,  2.   ,  1.   ],\n",
       "       [19.683,  7.29 ,  2.7  ,  1.   ],\n",
       "       [27.   ,  9.   ,  3.   ,  1.   ],\n",
       "       [35.937, 10.89 ,  3.3  ,  1.   ],\n",
       "       [64.   , 16.   ,  4.   ,  1.   ],\n",
       "       [79.507, 18.49 ,  4.3  ,  1.   ]])"
      ]
     },
     "execution_count": 8,
     "metadata": {},
     "output_type": "execute_result"
    }
   ],
   "source": [
    "X"
   ]
  },
  {
   "cell_type": "code",
   "execution_count": 9,
   "id": "782a7a68",
   "metadata": {},
   "outputs": [
    {
     "data": {
      "text/plain": [
       "array([[ 0.06084773, -0.44268085,  0.9061375 , -0.45447965],\n",
       "       [-0.44268085,  3.27713323, -6.85798118,  3.52359103],\n",
       "       [ 0.9061375 , -6.85798118, 14.80189797, -7.92563633],\n",
       "       [-0.45447965,  3.52359103, -7.92563633,  4.64432859]])"
      ]
     },
     "execution_count": 9,
     "metadata": {},
     "output_type": "execute_result"
    }
   ],
   "source": [
    "np.linalg.inv(X.T @ X) "
   ]
  },
  {
   "cell_type": "code",
   "execution_count": 10,
   "id": "fa9b30b6",
   "metadata": {},
   "outputs": [
    {
     "data": {
      "text/plain": [
       "array([2451.8765,  690.635 ,  214.25  ,   80.    ])"
      ]
     },
     "execution_count": 10,
     "metadata": {},
     "output_type": "execute_result"
    }
   ],
   "source": [
    " X.T @ y"
   ]
  },
  {
   "cell_type": "code",
   "execution_count": 11,
   "id": "08772abc",
   "metadata": {},
   "outputs": [
    {
     "data": {
      "text/plain": [
       "array([ 1.24181752, -9.53106286, 22.63114975, -7.33397387])"
      ]
     },
     "execution_count": 11,
     "metadata": {},
     "output_type": "execute_result"
    }
   ],
   "source": [
    "np.linalg.inv(X.T @ X) @ X.T @ y"
   ]
  },
  {
   "cell_type": "markdown",
   "id": "b1baadee",
   "metadata": {},
   "source": [
    "# C_a"
   ]
  },
  {
   "cell_type": "code",
   "execution_count": 12,
   "id": "fe72b186",
   "metadata": {},
   "outputs": [
    {
     "name": "stdout",
     "output_type": "stream",
     "text": [
      "Parameter a: -0.2825523126980123\n",
      "Parameter b: 1.6293983407413926\n",
      "Parameter c: 7.439147332591207\n",
      "MSE = 3.6559994142112933\n"
     ]
    }
   ],
   "source": [
    "import numpy as np\n",
    "\n",
    "# داده‌های آزمایش\n",
    "x = np.array([3.8, 1, 2, 1.9, 1.5, 1.6, 1.2, 3.3, 1.5, 4])\n",
    "y = np.array([12.9, 9, 8, 9, 7, 9.5, 10, 11, 11, 6])\n",
    "\n",
    "# تبدیل x به توان دوم\n",
    "x_squared = np.square(x)\n",
    "\n",
    "# تعریف ماتریس طراحی X با توجه به مقادیر x، x^2 و یک\n",
    "X = np.column_stack((x_squared, x, np.ones_like(x)))\n",
    "\n",
    "# حل معادله‌ی (X^T * X)^(-1) * X^T * Y برای پیدا کردن پارامترهای a، b و c\n",
    "params = np.linalg.inv(X.T @ X) @ X.T @ y\n",
    "\n",
    "# مقادیر پارامترهای a، b و c را با استفاده از params به دست می‌آوریم\n",
    "a, b, c = params\n",
    "\n",
    "# چاپ پارامترهای مدل ۱\n",
    "print(f\"Parameter a: {a}\")\n",
    "print(f\"Parameter b: {b}\")\n",
    "print(f\"Parameter c: {c}\")\n",
    "\n",
    "# تابعی برای پیش‌بینی مقدار y برای یک مقدار x دلخواه\n",
    "def predict(x):\n",
    "    return a * (x ** 2) + b * x + c\n",
    "\n",
    "model1 = predict(x)\n",
    "MSE = mean_squared_error(y, model1)\n",
    "print(\"MSE =\",MSE)\n"
   ]
  },
  {
   "cell_type": "code",
   "execution_count": 13,
   "id": "37638bc0",
   "metadata": {},
   "outputs": [
    {
     "name": "stdout",
     "output_type": "stream",
     "text": [
      "\n",
      "Y_true =  [12.9  9.   8.   9.   7.   9.5 10.  11.  11.   6. ]\n",
      "\n",
      "Y_pred =  [9.55080563 8.78599336 9.56773476 9.51499033 9.24750214 9.32285076\n",
      " 8.98755001 9.73916717 9.24750214 9.43590369]\n",
      "\n",
      " y_true - y_pred =  [ 3.34919437  0.21400664 -1.56773476 -0.51499033 -2.24750214  0.17714924\n",
      "  1.01244999  1.26083283  1.75249786 -3.43590369]\n",
      "\n",
      " (y_true - y_pred)**2 =  [11.21710291  0.04579884  2.45779229  0.26521504  5.05126587  0.03138185\n",
      "  1.02505498  1.58969942  3.07124875 11.80543418]\n",
      "\n",
      " MSE = 3.6559994142112933\n"
     ]
    }
   ],
   "source": [
    "\n",
    "def mean_square_error(y_true, y_pred):\n",
    "    print(\"\\nY_true = \", y_true)\n",
    "    print(\"\\nY_pred = \", y_pred)\n",
    "    print(\"\\n y_true - y_pred = \",y_true - y_pred)\n",
    "    print(\"\\n (y_true - y_pred)**2 = \",(y_true - y_pred)**2)\n",
    "    print(\"\\n MSE =\", np.mean((y_true - y_pred)**2))\n",
    "    \n",
    "    \n",
    "    mse = np.mean((y_true - y_pred)**2)\n",
    "    return mse\n",
    "    \n",
    "mse = mean_square_error(y, predict(x))\n"
   ]
  },
  {
   "cell_type": "markdown",
   "id": "9c71e0fa",
   "metadata": {},
   "source": [
    "# C_b"
   ]
  },
  {
   "cell_type": "code",
   "execution_count": 14,
   "id": "4085c03f",
   "metadata": {},
   "outputs": [
    {
     "name": "stdout",
     "output_type": "stream",
     "text": [
      "Parameter a: -1.6296193187534769\n",
      "Parameter b: 11.44234356360198\n",
      "Parameter c: -23.653756395903713\n",
      "Parameter d: 23.89760347808381\n",
      "MSE = 2.7000636916894947\n"
     ]
    }
   ],
   "source": [
    "import numpy as np\n",
    "from sklearn.metrics import mean_squared_error\n",
    "\n",
    "# داده‌های آزمایش\n",
    "x = np.array([3.8, 1, 2, 1.9, 1.5, 1.6, 1.2, 3.3, 1.5, 4])\n",
    "y = np.array([12.9, 9, 8, 9, 7, 9.5, 10, 11, 11, 6])\n",
    "\n",
    "# تبدیل x به توان های بالاتر\n",
    "x_cube = np.power(x, 3)\n",
    "x_squared = np.square(x)\n",
    "\n",
    "# تعریف ماتریس طراحی X با توجه به مقادیر x، x^2، x^3 و یک\n",
    "X = np.column_stack((x_cube, x_squared, x, np.ones_like(x)))\n",
    "\n",
    "# حل معادله‌ی (X^T * X)^(-1) * X^T * Y برای پیدا کردن پارامترهای a، b، c و d\n",
    "params = np.linalg.inv(X.T @ X) @ X.T @ y\n",
    "\n",
    "# مقادیر پارامترهای a، b، c و d را با استفاده از params به دست می‌آوریم\n",
    "a, b, c, d = params\n",
    "\n",
    "# چاپ پارامترهای مدل ۲\n",
    "print(f\"Parameter a: {a}\")\n",
    "print(f\"Parameter b: {b}\")\n",
    "print(f\"Parameter c: {c}\")\n",
    "print(f\"Parameter d: {d}\")\n",
    "\n",
    "# تابعی برای پیش‌بینی مقدار y برای یک مقدار x دلخواه\n",
    "def predict(x):\n",
    "    return a * (x ** 3) + b * (x ** 2) + c * x + d\n",
    "\n",
    "model2 = predict(x)\n",
    "MSE = mean_squared_error(y, model2)\n",
    "print(\"MSE =\", MSE)\n"
   ]
  },
  {
   "cell_type": "code",
   "execution_count": 15,
   "id": "a98922e9",
   "metadata": {},
   "outputs": [
    {
     "name": "stdout",
     "output_type": "stream",
     "text": [
      "\n",
      "Y_true =  [12.9  9.   8.   9.   7.   9.5 10.  11.  11.   6. ]\n",
      "\n",
      "Y_pred =  [ 9.82029897 10.05657133  9.32251039  9.08476768  8.6622767   8.66907204\n",
      "  9.17408835 11.88369932  8.6622767   8.06443851]\n",
      "\n",
      " y_true - y_pred =  [ 3.07970103 -1.05657133 -1.32251039 -0.08476768 -1.6622767   0.83092796\n",
      "  0.82591165 -0.88369932  2.3377233  -2.06443851]\n",
      "\n",
      " (y_true - y_pred)**2 =  [9.48455841e+00 1.11634297e+00 1.74903373e+00 7.18556010e-03\n",
      " 2.76316383e+00 6.90441278e-01 6.82130051e-01 7.80924490e-01\n",
      " 5.46495022e+00 4.26190637e+00]\n",
      "\n",
      " MSE = 2.7000636916894947\n"
     ]
    }
   ],
   "source": [
    "mse = mean_square_error(y, predict(x))\n"
   ]
  },
  {
   "cell_type": "markdown",
   "id": "c6c616be",
   "metadata": {},
   "source": [
    "# model 2 performance is better as its MSE is lower."
   ]
  },
  {
   "cell_type": "markdown",
   "id": "f8448fa0",
   "metadata": {},
   "source": [
    "# D"
   ]
  },
  {
   "cell_type": "code",
   "execution_count": 16,
   "id": "0ffbc8bb",
   "metadata": {},
   "outputs": [
    {
     "name": "stdout",
     "output_type": "stream",
     "text": [
      "The 95% Confidence Interval is: (-0.7361, 0.7361)\n"
     ]
    }
   ],
   "source": [
    "import numpy as np\n",
    "from scipy.stats import t\n",
    "\n",
    "x = model1\n",
    "y = model2\n",
    "\n",
    "# Calculate sample means and standard deviations\n",
    "x_mean = np.mean(x)\n",
    "y_mean = np.mean(y)\n",
    "x_std = np.std(x, ddof=1)\n",
    "y_std = np.std(y, ddof=1)\n",
    "\n",
    "# Calculate pooled standard deviation\n",
    "n1 = len(x)\n",
    "n2 = len(y)\n",
    "df = n1 + n2 - 2\n",
    "sp = np.sqrt(((n1-1)*(x_std**2) + (n2-1)*(y_std**2)) / df)\n",
    "\n",
    "# Calculate critical value of t\n",
    "alpha = 0.05\n",
    "t_crit = abs(t.ppf(alpha/2, df))\n",
    "\n",
    "# Calculate standard error and margin of error\n",
    "se = sp * np.sqrt(1/n1 + 1/n2)\n",
    "me = t_crit * se\n",
    "\n",
    "# Calculate confidence interval\n",
    "ci_low = (x_mean - y_mean) - me\n",
    "ci_high = (x_mean - y_mean) + me\n",
    "\n",
    "print(\"The 95% Confidence Interval is: ({:.4f}, {:.4f})\".format(ci_low, ci_high))\n"
   ]
  },
  {
   "cell_type": "markdown",
   "id": "c9e213a5",
   "metadata": {},
   "source": [
    "# Q2"
   ]
  },
  {
   "cell_type": "markdown",
   "id": "f4e97f56",
   "metadata": {},
   "source": [
    "The Friedman test ranks each person's score from lowest to highest (as if participants had been asked to rank the methods from least favourite to favourite) and bases the test on the sum of ranks for each column."
   ]
  },
  {
   "cell_type": "markdown",
   "id": "546d2d41",
   "metadata": {},
   "source": [
    "It is used to test for differences between groups when the dependent variable being measured is ordinal. It can also be used for continuous data that has violated the assumptions necessary to run the one-way ANOVA with repeated measures (e.g., data that has marked deviations from normality)."
   ]
  },
  {
   "cell_type": "markdown",
   "id": "4c77f5d8",
   "metadata": {},
   "source": [
    "The Friedman test is classified as a nonparametric test because it does not require a specific distributional assumption. A primary advantage of the Friedman test is that it can be applied more widely as compared to ANOVA."
   ]
  },
  {
   "cell_type": "markdown",
   "id": "cdd7b3ff",
   "metadata": {},
   "source": [
    "# Q3"
   ]
  },
  {
   "cell_type": "markdown",
   "id": "2ab849b6",
   "metadata": {},
   "source": [
    "# a"
   ]
  },
  {
   "cell_type": "code",
   "execution_count": 17,
   "id": "3ff10607",
   "metadata": {},
   "outputs": [
    {
     "data": {
      "text/html": [
       "<div>\n",
       "<style scoped>\n",
       "    .dataframe tbody tr th:only-of-type {\n",
       "        vertical-align: middle;\n",
       "    }\n",
       "\n",
       "    .dataframe tbody tr th {\n",
       "        vertical-align: top;\n",
       "    }\n",
       "\n",
       "    .dataframe thead th {\n",
       "        text-align: right;\n",
       "    }\n",
       "</style>\n",
       "<table border=\"1\" class=\"dataframe\">\n",
       "  <thead>\n",
       "    <tr style=\"text-align: right;\">\n",
       "      <th></th>\n",
       "      <th>0.00632  18.00   2.310  0  0.5380  6.5750  65.20  4.0900   1  296.0  15.30 396.90   4.98  24.00</th>\n",
       "    </tr>\n",
       "  </thead>\n",
       "  <tbody>\n",
       "    <tr>\n",
       "      <th>0</th>\n",
       "      <td>0.02731   0.00   7.070  0  0.4690  6.4210  78...</td>\n",
       "    </tr>\n",
       "    <tr>\n",
       "      <th>1</th>\n",
       "      <td>0.02729   0.00   7.070  0  0.4690  7.1850  61...</td>\n",
       "    </tr>\n",
       "    <tr>\n",
       "      <th>2</th>\n",
       "      <td>0.03237   0.00   2.180  0  0.4580  6.9980  45...</td>\n",
       "    </tr>\n",
       "    <tr>\n",
       "      <th>3</th>\n",
       "      <td>0.06905   0.00   2.180  0  0.4580  7.1470  54...</td>\n",
       "    </tr>\n",
       "    <tr>\n",
       "      <th>4</th>\n",
       "      <td>0.02985   0.00   2.180  0  0.4580  6.4300  58...</td>\n",
       "    </tr>\n",
       "    <tr>\n",
       "      <th>...</th>\n",
       "      <td>...</td>\n",
       "    </tr>\n",
       "    <tr>\n",
       "      <th>500</th>\n",
       "      <td>0.06263   0.00  11.930  0  0.5730  6.5930  69...</td>\n",
       "    </tr>\n",
       "    <tr>\n",
       "      <th>501</th>\n",
       "      <td>0.04527   0.00  11.930  0  0.5730  6.1200  76...</td>\n",
       "    </tr>\n",
       "    <tr>\n",
       "      <th>502</th>\n",
       "      <td>0.06076   0.00  11.930  0  0.5730  6.9760  91...</td>\n",
       "    </tr>\n",
       "    <tr>\n",
       "      <th>503</th>\n",
       "      <td>0.10959   0.00  11.930  0  0.5730  6.7940  89...</td>\n",
       "    </tr>\n",
       "    <tr>\n",
       "      <th>504</th>\n",
       "      <td>0.04741   0.00  11.930  0  0.5730  6.0300  80...</td>\n",
       "    </tr>\n",
       "  </tbody>\n",
       "</table>\n",
       "<p>505 rows × 1 columns</p>\n",
       "</div>"
      ],
      "text/plain": [
       "     0.00632  18.00   2.310  0  0.5380  6.5750  65.20  4.0900   1  296.0  15.30 396.90   4.98  24.00\n",
       "0     0.02731   0.00   7.070  0  0.4690  6.4210  78...                                              \n",
       "1     0.02729   0.00   7.070  0  0.4690  7.1850  61...                                              \n",
       "2     0.03237   0.00   2.180  0  0.4580  6.9980  45...                                              \n",
       "3     0.06905   0.00   2.180  0  0.4580  7.1470  54...                                              \n",
       "4     0.02985   0.00   2.180  0  0.4580  6.4300  58...                                              \n",
       "..                                                 ...                                              \n",
       "500   0.06263   0.00  11.930  0  0.5730  6.5930  69...                                              \n",
       "501   0.04527   0.00  11.930  0  0.5730  6.1200  76...                                              \n",
       "502   0.06076   0.00  11.930  0  0.5730  6.9760  91...                                              \n",
       "503   0.10959   0.00  11.930  0  0.5730  6.7940  89...                                              \n",
       "504   0.04741   0.00  11.930  0  0.5730  6.0300  80...                                              \n",
       "\n",
       "[505 rows x 1 columns]"
      ]
     },
     "execution_count": 17,
     "metadata": {},
     "output_type": "execute_result"
    }
   ],
   "source": [
    "import pandas as pd\n",
    "import numpy as np\n",
    "df=pd.read_csv('housing.txt')\n",
    "df"
   ]
  },
  {
   "cell_type": "code",
   "execution_count": 18,
   "id": "b8f9a8c2",
   "metadata": {},
   "outputs": [
    {
     "data": {
      "text/plain": [
       "14"
      ]
     },
     "execution_count": 18,
     "metadata": {},
     "output_type": "execute_result"
    }
   ],
   "source": [
    "cols=['CRIM' ,'ZN' ,'INDUS' ,'CHAS' ,'NOX' ,'RM' ,'AGE', 'DIS', 'RAD', 'TAX', 'PTRATIO', 'B', 'LSTAT', 'MEDV']\n",
    "atts=[[] for i in range(14)]\n",
    "for i in range(len(df)):\n",
    "    x=df[' 0.00632  18.00   2.310  0  0.5380  6.5750  65.20  4.0900   1  296.0  15.30 396.90   4.98  24.00'][i].split()\n",
    "    #x.remove('')\n",
    "    #print(len(x))\n",
    "    for j in range(len(x)):\n",
    "        atts[j].append(float(x[j]))\n",
    "\n",
    "len(atts)   "
   ]
  },
  {
   "cell_type": "code",
   "execution_count": 19,
   "id": "a3b42c78",
   "metadata": {},
   "outputs": [
    {
     "data": {
      "text/html": [
       "<div>\n",
       "<style scoped>\n",
       "    .dataframe tbody tr th:only-of-type {\n",
       "        vertical-align: middle;\n",
       "    }\n",
       "\n",
       "    .dataframe tbody tr th {\n",
       "        vertical-align: top;\n",
       "    }\n",
       "\n",
       "    .dataframe thead th {\n",
       "        text-align: right;\n",
       "    }\n",
       "</style>\n",
       "<table border=\"1\" class=\"dataframe\">\n",
       "  <thead>\n",
       "    <tr style=\"text-align: right;\">\n",
       "      <th></th>\n",
       "      <th>CRIM</th>\n",
       "      <th>ZN</th>\n",
       "      <th>INDUS</th>\n",
       "      <th>CHAS</th>\n",
       "      <th>NOX</th>\n",
       "      <th>RM</th>\n",
       "      <th>AGE</th>\n",
       "      <th>DIS</th>\n",
       "      <th>RAD</th>\n",
       "      <th>TAX</th>\n",
       "      <th>PTRATIO</th>\n",
       "      <th>B</th>\n",
       "      <th>LSTAT</th>\n",
       "      <th>MEDV</th>\n",
       "    </tr>\n",
       "  </thead>\n",
       "  <tbody>\n",
       "    <tr>\n",
       "      <th>0</th>\n",
       "      <td>0.02731</td>\n",
       "      <td>0.0</td>\n",
       "      <td>7.07</td>\n",
       "      <td>0.0</td>\n",
       "      <td>0.469</td>\n",
       "      <td>6.421</td>\n",
       "      <td>78.9</td>\n",
       "      <td>4.9671</td>\n",
       "      <td>2.0</td>\n",
       "      <td>242.0</td>\n",
       "      <td>17.8</td>\n",
       "      <td>396.90</td>\n",
       "      <td>9.14</td>\n",
       "      <td>21.6</td>\n",
       "    </tr>\n",
       "    <tr>\n",
       "      <th>1</th>\n",
       "      <td>0.02729</td>\n",
       "      <td>0.0</td>\n",
       "      <td>7.07</td>\n",
       "      <td>0.0</td>\n",
       "      <td>0.469</td>\n",
       "      <td>7.185</td>\n",
       "      <td>61.1</td>\n",
       "      <td>4.9671</td>\n",
       "      <td>2.0</td>\n",
       "      <td>242.0</td>\n",
       "      <td>17.8</td>\n",
       "      <td>392.83</td>\n",
       "      <td>4.03</td>\n",
       "      <td>34.7</td>\n",
       "    </tr>\n",
       "    <tr>\n",
       "      <th>2</th>\n",
       "      <td>0.03237</td>\n",
       "      <td>0.0</td>\n",
       "      <td>2.18</td>\n",
       "      <td>0.0</td>\n",
       "      <td>0.458</td>\n",
       "      <td>6.998</td>\n",
       "      <td>45.8</td>\n",
       "      <td>6.0622</td>\n",
       "      <td>3.0</td>\n",
       "      <td>222.0</td>\n",
       "      <td>18.7</td>\n",
       "      <td>394.63</td>\n",
       "      <td>2.94</td>\n",
       "      <td>33.4</td>\n",
       "    </tr>\n",
       "    <tr>\n",
       "      <th>3</th>\n",
       "      <td>0.06905</td>\n",
       "      <td>0.0</td>\n",
       "      <td>2.18</td>\n",
       "      <td>0.0</td>\n",
       "      <td>0.458</td>\n",
       "      <td>7.147</td>\n",
       "      <td>54.2</td>\n",
       "      <td>6.0622</td>\n",
       "      <td>3.0</td>\n",
       "      <td>222.0</td>\n",
       "      <td>18.7</td>\n",
       "      <td>396.90</td>\n",
       "      <td>5.33</td>\n",
       "      <td>36.2</td>\n",
       "    </tr>\n",
       "    <tr>\n",
       "      <th>4</th>\n",
       "      <td>0.02985</td>\n",
       "      <td>0.0</td>\n",
       "      <td>2.18</td>\n",
       "      <td>0.0</td>\n",
       "      <td>0.458</td>\n",
       "      <td>6.430</td>\n",
       "      <td>58.7</td>\n",
       "      <td>6.0622</td>\n",
       "      <td>3.0</td>\n",
       "      <td>222.0</td>\n",
       "      <td>18.7</td>\n",
       "      <td>394.12</td>\n",
       "      <td>5.21</td>\n",
       "      <td>28.7</td>\n",
       "    </tr>\n",
       "    <tr>\n",
       "      <th>...</th>\n",
       "      <td>...</td>\n",
       "      <td>...</td>\n",
       "      <td>...</td>\n",
       "      <td>...</td>\n",
       "      <td>...</td>\n",
       "      <td>...</td>\n",
       "      <td>...</td>\n",
       "      <td>...</td>\n",
       "      <td>...</td>\n",
       "      <td>...</td>\n",
       "      <td>...</td>\n",
       "      <td>...</td>\n",
       "      <td>...</td>\n",
       "      <td>...</td>\n",
       "    </tr>\n",
       "    <tr>\n",
       "      <th>500</th>\n",
       "      <td>0.06263</td>\n",
       "      <td>0.0</td>\n",
       "      <td>11.93</td>\n",
       "      <td>0.0</td>\n",
       "      <td>0.573</td>\n",
       "      <td>6.593</td>\n",
       "      <td>69.1</td>\n",
       "      <td>2.4786</td>\n",
       "      <td>1.0</td>\n",
       "      <td>273.0</td>\n",
       "      <td>21.0</td>\n",
       "      <td>391.99</td>\n",
       "      <td>9.67</td>\n",
       "      <td>22.4</td>\n",
       "    </tr>\n",
       "    <tr>\n",
       "      <th>501</th>\n",
       "      <td>0.04527</td>\n",
       "      <td>0.0</td>\n",
       "      <td>11.93</td>\n",
       "      <td>0.0</td>\n",
       "      <td>0.573</td>\n",
       "      <td>6.120</td>\n",
       "      <td>76.7</td>\n",
       "      <td>2.2875</td>\n",
       "      <td>1.0</td>\n",
       "      <td>273.0</td>\n",
       "      <td>21.0</td>\n",
       "      <td>396.90</td>\n",
       "      <td>9.08</td>\n",
       "      <td>20.6</td>\n",
       "    </tr>\n",
       "    <tr>\n",
       "      <th>502</th>\n",
       "      <td>0.06076</td>\n",
       "      <td>0.0</td>\n",
       "      <td>11.93</td>\n",
       "      <td>0.0</td>\n",
       "      <td>0.573</td>\n",
       "      <td>6.976</td>\n",
       "      <td>91.0</td>\n",
       "      <td>2.1675</td>\n",
       "      <td>1.0</td>\n",
       "      <td>273.0</td>\n",
       "      <td>21.0</td>\n",
       "      <td>396.90</td>\n",
       "      <td>5.64</td>\n",
       "      <td>23.9</td>\n",
       "    </tr>\n",
       "    <tr>\n",
       "      <th>503</th>\n",
       "      <td>0.10959</td>\n",
       "      <td>0.0</td>\n",
       "      <td>11.93</td>\n",
       "      <td>0.0</td>\n",
       "      <td>0.573</td>\n",
       "      <td>6.794</td>\n",
       "      <td>89.3</td>\n",
       "      <td>2.3889</td>\n",
       "      <td>1.0</td>\n",
       "      <td>273.0</td>\n",
       "      <td>21.0</td>\n",
       "      <td>393.45</td>\n",
       "      <td>6.48</td>\n",
       "      <td>22.0</td>\n",
       "    </tr>\n",
       "    <tr>\n",
       "      <th>504</th>\n",
       "      <td>0.04741</td>\n",
       "      <td>0.0</td>\n",
       "      <td>11.93</td>\n",
       "      <td>0.0</td>\n",
       "      <td>0.573</td>\n",
       "      <td>6.030</td>\n",
       "      <td>80.8</td>\n",
       "      <td>2.5050</td>\n",
       "      <td>1.0</td>\n",
       "      <td>273.0</td>\n",
       "      <td>21.0</td>\n",
       "      <td>396.90</td>\n",
       "      <td>7.88</td>\n",
       "      <td>11.9</td>\n",
       "    </tr>\n",
       "  </tbody>\n",
       "</table>\n",
       "<p>505 rows × 14 columns</p>\n",
       "</div>"
      ],
      "text/plain": [
       "        CRIM   ZN  INDUS  CHAS    NOX     RM   AGE     DIS  RAD    TAX  \\\n",
       "0    0.02731  0.0   7.07   0.0  0.469  6.421  78.9  4.9671  2.0  242.0   \n",
       "1    0.02729  0.0   7.07   0.0  0.469  7.185  61.1  4.9671  2.0  242.0   \n",
       "2    0.03237  0.0   2.18   0.0  0.458  6.998  45.8  6.0622  3.0  222.0   \n",
       "3    0.06905  0.0   2.18   0.0  0.458  7.147  54.2  6.0622  3.0  222.0   \n",
       "4    0.02985  0.0   2.18   0.0  0.458  6.430  58.7  6.0622  3.0  222.0   \n",
       "..       ...  ...    ...   ...    ...    ...   ...     ...  ...    ...   \n",
       "500  0.06263  0.0  11.93   0.0  0.573  6.593  69.1  2.4786  1.0  273.0   \n",
       "501  0.04527  0.0  11.93   0.0  0.573  6.120  76.7  2.2875  1.0  273.0   \n",
       "502  0.06076  0.0  11.93   0.0  0.573  6.976  91.0  2.1675  1.0  273.0   \n",
       "503  0.10959  0.0  11.93   0.0  0.573  6.794  89.3  2.3889  1.0  273.0   \n",
       "504  0.04741  0.0  11.93   0.0  0.573  6.030  80.8  2.5050  1.0  273.0   \n",
       "\n",
       "     PTRATIO       B  LSTAT  MEDV  \n",
       "0       17.8  396.90   9.14  21.6  \n",
       "1       17.8  392.83   4.03  34.7  \n",
       "2       18.7  394.63   2.94  33.4  \n",
       "3       18.7  396.90   5.33  36.2  \n",
       "4       18.7  394.12   5.21  28.7  \n",
       "..       ...     ...    ...   ...  \n",
       "500     21.0  391.99   9.67  22.4  \n",
       "501     21.0  396.90   9.08  20.6  \n",
       "502     21.0  396.90   5.64  23.9  \n",
       "503     21.0  393.45   6.48  22.0  \n",
       "504     21.0  396.90   7.88  11.9  \n",
       "\n",
       "[505 rows x 14 columns]"
      ]
     },
     "execution_count": 19,
     "metadata": {},
     "output_type": "execute_result"
    }
   ],
   "source": [
    "house=pd.DataFrame(atts,index=['CRIM' ,'ZN' ,'INDUS' ,'CHAS' ,'NOX' ,'RM' ,'AGE', 'DIS', 'RAD', 'TAX', 'PTRATIO', 'B', 'LSTAT', 'MEDV'])\n",
    "hos=house.T\n",
    "hos"
   ]
  },
  {
   "cell_type": "code",
   "execution_count": 20,
   "id": "cc752e5e",
   "metadata": {},
   "outputs": [],
   "source": [
    "import pandas as pd\n",
    "from sklearn.model_selection import train_test_split\n",
    "\n",
    "# load housing dataset\n",
    "housing_data = hos\n",
    "\n",
    "# split the dataset into training and test sets\n",
    "train_data, test_data, train_labels, test_labels = train_test_split(\n",
    "    housing_data.drop(columns=['MEDV']), housing_data['MEDV'], test_size=0.2, random_state=42)\n"
   ]
  },
  {
   "cell_type": "code",
   "execution_count": 21,
   "id": "93abd1c1",
   "metadata": {},
   "outputs": [],
   "source": [
    "from sklearn.cluster import KMeans\n",
    "\n",
    "# find M cluster centers using K-Means algorithm\n",
    "clusters = KMeans(n_clusters=10, random_state=42).fit(train_data)\n",
    "cluster_centers = clusters.cluster_centers_"
   ]
  },
  {
   "cell_type": "code",
   "execution_count": 22,
   "id": "aae58dcb",
   "metadata": {},
   "outputs": [],
   "source": [
    "def gaussian_basis(x, m, beta):\n",
    "    return np.exp(-0.5 * beta * np.square(np.linalg.norm(x - m)))"
   ]
  },
  {
   "cell_type": "code",
   "execution_count": 23,
   "id": "a56d5bb2",
   "metadata": {},
   "outputs": [],
   "source": [
    "import numpy as np\n",
    "\n",
    "# define the basis functions for the linear model\n",
    "def design_matrix(data, centers, beta):\n",
    "    phi = np.zeros((len(data), len(centers)))\n",
    "    for i, x in enumerate(data.values):\n",
    "        for j, c in enumerate(centers):\n",
    "            phi[i][j] = gaussian_basis(x, c, beta)\n",
    "    return phi\n",
    "\n",
    "# create the design matrix using the Gaussian basis functions and cluster centers\n",
    "beta = 0.1\n",
    "X_train = design_matrix(train_data, cluster_centers, beta)\n",
    "X_test = design_matrix(test_data, cluster_centers, beta)\n"
   ]
  },
  {
   "cell_type": "code",
   "execution_count": 24,
   "id": "3c61e14a",
   "metadata": {},
   "outputs": [
    {
     "name": "stdout",
     "output_type": "stream",
     "text": [
      "Training error: 91.19\n",
      "Test error: 58.55\n"
     ]
    }
   ],
   "source": [
    "from sklearn.linear_model import Ridge\n",
    "\n",
    "# train the model using Ridge Regression\n",
    "alpha = 0.1\n",
    "reg = Ridge(alpha=alpha)\n",
    "reg.fit(X_train, train_labels)\n",
    "\n",
    "# evaluate the model on training and test data\n",
    "train_error = np.mean((reg.predict(X_train) - train_labels) ** 2)\n",
    "test_error = np.mean((reg.predict(X_test) - test_labels) ** 2)\n",
    "\n",
    "print(f'Training error: {train_error:.2f}')\n",
    "print(f'Test error: {test_error:.2f}')\n"
   ]
  },
  {
   "cell_type": "code",
   "execution_count": 25,
   "id": "b79ea070",
   "metadata": {},
   "outputs": [
    {
     "name": "stdout",
     "output_type": "stream",
     "text": [
      "Best beta: 0.01\n",
      "Test error with best beta: 53.19\n"
     ]
    }
   ],
   "source": [
    "beta_values = [0.01, 0.05, 0.015, 0.02, 0.1, 0.5, 1.0] # range of beta values to try\n",
    "test_errors = []\n",
    "\n",
    "for b in beta_values:\n",
    "    X_train = design_matrix(train_data, cluster_centers, b)\n",
    "    X_test = design_matrix(test_data, cluster_centers, b)\n",
    "    \n",
    "    reg = Ridge(alpha=alpha)\n",
    "    reg.fit(X_train, train_labels)\n",
    "    \n",
    "    test_error = np.mean((reg.predict(X_test) - test_labels) ** 2)\n",
    "    test_errors.append(test_error)\n",
    "\n",
    "best_beta_idx = np.argmin(test_errors)\n",
    "best_beta = beta_values[best_beta_idx]\n",
    "best_test_error = test_errors[best_beta_idx]\n",
    "\n",
    "print(f'Best beta: {best_beta:.2f}')\n",
    "print(f'Test error with best beta: {best_test_error:.2f}')\n"
   ]
  },
  {
   "cell_type": "markdown",
   "id": "959e2f48",
   "metadata": {},
   "source": [
    "# b"
   ]
  },
  {
   "cell_type": "code",
   "execution_count": 26,
   "id": "2bc97fa1",
   "metadata": {},
   "outputs": [],
   "source": [
    "def sigmoid_basis(x, m, a):\n",
    "    norm = np.linalg.norm(x - m)\n",
    "    return 1 / (1 + np.exp(-a * norm))"
   ]
  },
  {
   "cell_type": "code",
   "execution_count": 27,
   "id": "33e1c2f7",
   "metadata": {},
   "outputs": [],
   "source": [
    "# define the basis functions for the linear model\n",
    "def design_matrix(data, centers, a):\n",
    "    phi = np.zeros((len(data), len(centers)))\n",
    "    for i, x in enumerate(data.values):\n",
    "        for j, c in enumerate(centers):\n",
    "            phi[i][j] = sigmoid_basis(x, c, a)\n",
    "    return phi\n",
    "\n",
    "# create the design matrix using the sigmoid basis functions and cluster centers\n",
    "a = 0.1\n",
    "X_train = design_matrix(train_data, cluster_centers, a)\n",
    "X_test = design_matrix(test_data, cluster_centers, a)"
   ]
  },
  {
   "cell_type": "code",
   "execution_count": 28,
   "id": "e26d306c",
   "metadata": {},
   "outputs": [
    {
     "name": "stdout",
     "output_type": "stream",
     "text": [
      "Training error: 78.71\n",
      "Test error: 47.46\n"
     ]
    }
   ],
   "source": [
    "# train the model using Ridge Regression\n",
    "alpha = 0.1\n",
    "reg = Ridge(alpha=alpha)\n",
    "reg.fit(X_train, train_labels)\n",
    "\n",
    "# evaluate the model on training and test data\n",
    "train_error = np.mean((reg.predict(X_train) - train_labels) ** 2)\n",
    "test_error = np.mean((reg.predict(X_test) - test_labels) ** 2)\n",
    "\n",
    "print(f'Training error: {train_error:.2f}')\n",
    "print(f'Test error: {test_error:.2f}')\n"
   ]
  },
  {
   "cell_type": "code",
   "execution_count": 29,
   "id": "3a0448a0",
   "metadata": {},
   "outputs": [
    {
     "name": "stdout",
     "output_type": "stream",
     "text": [
      "Test error: 34.68 for a = 0.005\n",
      "Test error: 33.62 for a = 0.01\n",
      "Test error: 33.80 for a = 0.015\n",
      "Test error: 47.46 for a = 0.1\n",
      "Test error: 52.54 for a = 0.15\n",
      "Test error: 55.12 for a = 0.2\n",
      "Test error: 58.58 for a = 0.5\n",
      "Test error: 58.60 for a = 0.75\n",
      "Test error: 58.60 for a = 1\n"
     ]
    }
   ],
   "source": [
    "a = [0.005, 0.01, 0.015, 0.1, 0.15, 0.2,0.5,0.75,1]\n",
    "for i in a:\n",
    "    X_train = design_matrix(train_data, cluster_centers, i)\n",
    "    X_test = design_matrix(test_data, cluster_centers, i)\n",
    "    # train the model using Ridge Regression\n",
    "    alpha = 0.1\n",
    "    reg = Ridge(alpha=alpha)\n",
    "    reg.fit(X_train, train_labels)\n",
    "\n",
    "    # evaluate the model on training and test data\n",
    "    test_error = np.mean((reg.predict(X_test) - test_labels) ** 2)\n",
    "    print(f'Test error: {test_error:.2f}',\"for a =\", i)\n"
   ]
  },
  {
   "cell_type": "markdown",
   "id": "88557130",
   "metadata": {},
   "source": [
    "best value for a is 0.01"
   ]
  },
  {
   "cell_type": "markdown",
   "id": "d23f62bc",
   "metadata": {},
   "source": [
    "# Q4"
   ]
  },
  {
   "cell_type": "markdown",
   "id": "88667f7b",
   "metadata": {},
   "source": [
    "# a"
   ]
  },
  {
   "cell_type": "code",
   "execution_count": 30,
   "id": "14c329c7",
   "metadata": {},
   "outputs": [],
   "source": [
    "import pandas as pd\n",
    "with open(\"classification_trn.txt\", \"r\") as file:\n",
    "    lines = file.readlines()\n",
    "    rows = [[float(item) for item in line.strip().split(\" \") if item.strip()!=\"\"] for line in lines]\n",
    "    classification_training_set = pd.DataFrame(rows,columns=[\"X\",\"Y\",\"Out\"] )"
   ]
  },
  {
   "cell_type": "code",
   "execution_count": 31,
   "id": "321c1a69",
   "metadata": {},
   "outputs": [
    {
     "data": {
      "text/html": [
       "<div>\n",
       "<style scoped>\n",
       "    .dataframe tbody tr th:only-of-type {\n",
       "        vertical-align: middle;\n",
       "    }\n",
       "\n",
       "    .dataframe tbody tr th {\n",
       "        vertical-align: top;\n",
       "    }\n",
       "\n",
       "    .dataframe thead th {\n",
       "        text-align: right;\n",
       "    }\n",
       "</style>\n",
       "<table border=\"1\" class=\"dataframe\">\n",
       "  <thead>\n",
       "    <tr style=\"text-align: right;\">\n",
       "      <th></th>\n",
       "      <th>X</th>\n",
       "      <th>Y</th>\n",
       "      <th>Out</th>\n",
       "    </tr>\n",
       "  </thead>\n",
       "  <tbody>\n",
       "    <tr>\n",
       "      <th>0</th>\n",
       "      <td>0.462766</td>\n",
       "      <td>0.339111</td>\n",
       "      <td>1.0</td>\n",
       "    </tr>\n",
       "    <tr>\n",
       "      <th>1</th>\n",
       "      <td>0.779089</td>\n",
       "      <td>0.894436</td>\n",
       "      <td>1.0</td>\n",
       "    </tr>\n",
       "    <tr>\n",
       "      <th>2</th>\n",
       "      <td>0.067501</td>\n",
       "      <td>0.846257</td>\n",
       "      <td>1.0</td>\n",
       "    </tr>\n",
       "    <tr>\n",
       "      <th>3</th>\n",
       "      <td>-0.048451</td>\n",
       "      <td>0.142165</td>\n",
       "      <td>1.0</td>\n",
       "    </tr>\n",
       "    <tr>\n",
       "      <th>4</th>\n",
       "      <td>-0.529524</td>\n",
       "      <td>0.792441</td>\n",
       "      <td>1.0</td>\n",
       "    </tr>\n",
       "    <tr>\n",
       "      <th>...</th>\n",
       "      <td>...</td>\n",
       "      <td>...</td>\n",
       "      <td>...</td>\n",
       "    </tr>\n",
       "    <tr>\n",
       "      <th>245</th>\n",
       "      <td>-1.139328</td>\n",
       "      <td>0.541700</td>\n",
       "      <td>1.0</td>\n",
       "    </tr>\n",
       "    <tr>\n",
       "      <th>246</th>\n",
       "      <td>-0.972371</td>\n",
       "      <td>0.085763</td>\n",
       "      <td>0.0</td>\n",
       "    </tr>\n",
       "    <tr>\n",
       "      <th>247</th>\n",
       "      <td>0.205389</td>\n",
       "      <td>1.043041</td>\n",
       "      <td>1.0</td>\n",
       "    </tr>\n",
       "    <tr>\n",
       "      <th>248</th>\n",
       "      <td>-0.048533</td>\n",
       "      <td>0.532759</td>\n",
       "      <td>1.0</td>\n",
       "    </tr>\n",
       "    <tr>\n",
       "      <th>249</th>\n",
       "      <td>-1.759959</td>\n",
       "      <td>-0.912691</td>\n",
       "      <td>0.0</td>\n",
       "    </tr>\n",
       "  </tbody>\n",
       "</table>\n",
       "<p>250 rows × 3 columns</p>\n",
       "</div>"
      ],
      "text/plain": [
       "            X         Y  Out\n",
       "0    0.462766  0.339111  1.0\n",
       "1    0.779089  0.894436  1.0\n",
       "2    0.067501  0.846257  1.0\n",
       "3   -0.048451  0.142165  1.0\n",
       "4   -0.529524  0.792441  1.0\n",
       "..        ...       ...  ...\n",
       "245 -1.139328  0.541700  1.0\n",
       "246 -0.972371  0.085763  0.0\n",
       "247  0.205389  1.043041  1.0\n",
       "248 -0.048533  0.532759  1.0\n",
       "249 -1.759959 -0.912691  0.0\n",
       "\n",
       "[250 rows x 3 columns]"
      ]
     },
     "execution_count": 31,
     "metadata": {},
     "output_type": "execute_result"
    }
   ],
   "source": [
    "classification_training_set"
   ]
  },
  {
   "cell_type": "code",
   "execution_count": 32,
   "id": "5650ff60",
   "metadata": {},
   "outputs": [],
   "source": [
    "import pandas as pd\n",
    "with open(\"classification_tst.txt\", \"r\") as file:\n",
    "    lines = file.readlines()\n",
    "    rows = [[float(item) for item in line.strip().split(\" \") if item.strip()!=\"\"] for line in lines]\n",
    "    classification_test_set = pd.DataFrame(rows,columns=[\"X\",\"Y\",\"Out\"] )"
   ]
  },
  {
   "cell_type": "code",
   "execution_count": 33,
   "id": "16b60e8a",
   "metadata": {},
   "outputs": [
    {
     "data": {
      "text/html": [
       "<div>\n",
       "<style scoped>\n",
       "    .dataframe tbody tr th:only-of-type {\n",
       "        vertical-align: middle;\n",
       "    }\n",
       "\n",
       "    .dataframe tbody tr th {\n",
       "        vertical-align: top;\n",
       "    }\n",
       "\n",
       "    .dataframe thead th {\n",
       "        text-align: right;\n",
       "    }\n",
       "</style>\n",
       "<table border=\"1\" class=\"dataframe\">\n",
       "  <thead>\n",
       "    <tr style=\"text-align: right;\">\n",
       "      <th></th>\n",
       "      <th>X</th>\n",
       "      <th>Y</th>\n",
       "      <th>Out</th>\n",
       "    </tr>\n",
       "  </thead>\n",
       "  <tbody>\n",
       "    <tr>\n",
       "      <th>0</th>\n",
       "      <td>-0.521659</td>\n",
       "      <td>0.363769</td>\n",
       "      <td>0.0</td>\n",
       "    </tr>\n",
       "    <tr>\n",
       "      <th>1</th>\n",
       "      <td>-0.993098</td>\n",
       "      <td>-0.295949</td>\n",
       "      <td>1.0</td>\n",
       "    </tr>\n",
       "    <tr>\n",
       "      <th>2</th>\n",
       "      <td>2.083345</td>\n",
       "      <td>1.483410</td>\n",
       "      <td>1.0</td>\n",
       "    </tr>\n",
       "    <tr>\n",
       "      <th>3</th>\n",
       "      <td>-0.866462</td>\n",
       "      <td>0.166879</td>\n",
       "      <td>0.0</td>\n",
       "    </tr>\n",
       "    <tr>\n",
       "      <th>4</th>\n",
       "      <td>-1.182918</td>\n",
       "      <td>-0.075403</td>\n",
       "      <td>0.0</td>\n",
       "    </tr>\n",
       "    <tr>\n",
       "      <th>...</th>\n",
       "      <td>...</td>\n",
       "      <td>...</td>\n",
       "      <td>...</td>\n",
       "    </tr>\n",
       "    <tr>\n",
       "      <th>95</th>\n",
       "      <td>-1.408196</td>\n",
       "      <td>-0.474342</td>\n",
       "      <td>0.0</td>\n",
       "    </tr>\n",
       "    <tr>\n",
       "      <th>96</th>\n",
       "      <td>-0.260346</td>\n",
       "      <td>1.076912</td>\n",
       "      <td>1.0</td>\n",
       "    </tr>\n",
       "    <tr>\n",
       "      <th>97</th>\n",
       "      <td>-0.823111</td>\n",
       "      <td>-0.357994</td>\n",
       "      <td>0.0</td>\n",
       "    </tr>\n",
       "    <tr>\n",
       "      <th>98</th>\n",
       "      <td>0.493797</td>\n",
       "      <td>1.259292</td>\n",
       "      <td>1.0</td>\n",
       "    </tr>\n",
       "    <tr>\n",
       "      <th>99</th>\n",
       "      <td>1.069155</td>\n",
       "      <td>0.678563</td>\n",
       "      <td>1.0</td>\n",
       "    </tr>\n",
       "  </tbody>\n",
       "</table>\n",
       "<p>100 rows × 3 columns</p>\n",
       "</div>"
      ],
      "text/plain": [
       "           X         Y  Out\n",
       "0  -0.521659  0.363769  0.0\n",
       "1  -0.993098 -0.295949  1.0\n",
       "2   2.083345  1.483410  1.0\n",
       "3  -0.866462  0.166879  0.0\n",
       "4  -1.182918 -0.075403  0.0\n",
       "..       ...       ...  ...\n",
       "95 -1.408196 -0.474342  0.0\n",
       "96 -0.260346  1.076912  1.0\n",
       "97 -0.823111 -0.357994  0.0\n",
       "98  0.493797  1.259292  1.0\n",
       "99  1.069155  0.678563  1.0\n",
       "\n",
       "[100 rows x 3 columns]"
      ]
     },
     "execution_count": 33,
     "metadata": {},
     "output_type": "execute_result"
    }
   ],
   "source": [
    "classification_test_set"
   ]
  },
  {
   "cell_type": "code",
   "execution_count": 34,
   "id": "03af3776",
   "metadata": {},
   "outputs": [
    {
     "data": {
      "image/png": "[encoded data removed]",
      "text/plain": [
       "<Figure size 640x480 with 1 Axes>"
      ]
     },
     "metadata": {},
     "output_type": "display_data"
    }
   ],
   "source": [
    "import pandas as pd\n",
    "import matplotlib.pyplot as plt\n",
    "\n",
    "# Create a scatter plot with different colors for each value of the \"Out\" column\n",
    "plt.scatter(classification_training_set['X'], classification_training_set['Y'], c=classification_training_set['Out'])\n",
    "\n",
    "# Add labels to the x and y axes\n",
    "plt.xlabel('X')\n",
    "plt.ylabel('Y')\n",
    "\n",
    "# Show the plot\n",
    "plt.show()"
   ]
  },
  {
   "cell_type": "markdown",
   "id": "5fe857b1",
   "metadata": {},
   "source": [
    "These two classes are not linearly seprable"
   ]
  },
  {
   "cell_type": "markdown",
   "id": "69089493",
   "metadata": {},
   "source": [
    "# b"
   ]
  },
  {
   "cell_type": "code",
   "execution_count": 35,
   "id": "c2ad4b12",
   "metadata": {},
   "outputs": [],
   "source": [
    "# Split the datasets into input features and output labels\n",
    "X_train = classification_training_set.drop('Out', axis=1)\n",
    "y_train = classification_training_set[\"Out\"]\n",
    "X_test = classification_test_set.drop('Out', axis=1)\n",
    "y_test = classification_test_set[\"Out\"]\n"
   ]
  },
  {
   "cell_type": "code",
   "execution_count": 36,
   "id": "af6c113d",
   "metadata": {},
   "outputs": [],
   "source": [
    "import numpy as np\n",
    "\n",
    "class LRGD:\n",
    "    def __init__(self, epochs=500, lr_fun=None):\n",
    "        self.epochs = epochs\n",
    "        self.lr_fun = lr_fun\n",
    "        self.W = None\n",
    "        self.errors = []\n",
    "\n",
    "    def fit(self, X, y):\n",
    "        m, n = X.shape\n",
    "        self.W = np.ones(n)\n",
    "        for t in range(1, self.epochs+1):\n",
    "            alpha = self.lr_fun(t) if self.lr_fun else 0.01\n",
    "            h = self.sigmoid(np.dot(X, self.W))\n",
    "            error = y - h\n",
    "            self.W += alpha * (1/m) * np.dot(X.T, error)\n",
    "            # Calculate log loss and append to errors\n",
    "            ll = self.log_loss(y, h)\n",
    "            self.errors.append(ll)\n",
    "        return self\n",
    "\n",
    "    def predict(self, X):\n",
    "        pred_probs = self.sigmoid(np.dot(X, self.W))\n",
    "        # Return binary predictions based on threshold 0.5\n",
    "        return (pred_probs >= 0.5).astype(int)\n",
    "\n",
    "    def sigmoid(self, z):\n",
    "        return 1 / (1 + np.exp(-z))\n",
    "\n",
    "    def log_loss(self, y_true, y_pred):\n",
    "        eps = 1e-15\n",
    "        y_pred = np.clip(y_pred, eps, 1 - eps)\n",
    "        return -np.mean(y_true * np.log(y_pred) + (1 - y_true) * np.log(1 - y_pred))\n"
   ]
  },
  {
   "cell_type": "code",
   "execution_count": 37,
   "id": "09742f4c",
   "metadata": {},
   "outputs": [],
   "source": [
    "import matplotlib.pyplot as plt\n",
    "from sklearn.metrics import mean_squared_error, accuracy_score, confusion_matrix\n",
    "\n",
    "def classification_report(training_data, trn_lables, test_data, tst_lables, T=500, LR_function=None):\n",
    "    classifier = LRGD(epochs=T, lr_fun=LR_function)\n",
    "    W = classifier.fit(training_data, trn_lables).W\n",
    "    train_predicts = classifier.predict(training_data)\n",
    "    test_predicts = classifier.predict(test_data)\n",
    "    print(f\"W = {W.tolist()}\")\n",
    "    print(\"MSE of train set is:\", mean_squared_error(y_true=trn_lables, y_pred=train_predicts))\n",
    "    print(\"MSE of test set is:\", mean_squared_error(y_true=tst_lables, y_pred=test_predicts))\n",
    "    print(\"Accuracy of train set is:\", accuracy_score(y_true=trn_lables, y_pred=train_predicts))\n",
    "    print(\"Accuracy of test set is:\", accuracy_score(y_true=tst_lables, y_pred=test_predicts))\n",
    "    print(\"Confusion matrix of train set is:\\n\", confusion_matrix(y_true=trn_lables, y_pred=train_predicts))\n",
    "    print(\"Confusion matrix of test set is:\\n\", confusion_matrix(y_true=tst_lables, y_pred=test_predicts))\n",
    "    \n"
   ]
  },
  {
   "cell_type": "markdown",
   "id": "026e111a",
   "metadata": {},
   "source": [
    "# C"
   ]
  },
  {
   "cell_type": "code",
   "execution_count": 38,
   "id": "d9266b00",
   "metadata": {},
   "outputs": [
    {
     "name": "stdout",
     "output_type": "stream",
     "text": [
      "W = [1.186908626055479, 1.476989479372109]\n",
      "MSE of train set is: 0.1\n",
      "MSE of test set is: 0.11\n",
      "Accuracy of train set is: 0.9\n",
      "Accuracy of test set is: 0.89\n",
      "Confusion matrix of train set is:\n",
      " [[ 88   7]\n",
      " [ 18 137]]\n",
      "Confusion matrix of test set is:\n",
      " [[34  4]\n",
      " [ 7 55]]\n"
     ]
    }
   ],
   "source": [
    "classification_report(X_train, y_train, X_test, y_test, T=500, LR_function=None)"
   ]
  },
  {
   "cell_type": "markdown",
   "id": "88948bcc",
   "metadata": {},
   "source": [
    "# d"
   ]
  },
  {
   "cell_type": "code",
   "execution_count": 39,
   "id": "79fcf798",
   "metadata": {},
   "outputs": [],
   "source": [
    "import matplotlib.pyplot as plt\n",
    "from sklearn.metrics import mean_squared_error, accuracy_score, confusion_matrix\n",
    "\n",
    "def classification_report(training_data, trn_lables, test_data, tst_lables, T=500, LR_function=None):\n",
    "    classifier = LRGD(epochs=T, lr_fun=LR_function)\n",
    "    W = classifier.fit(training_data, trn_lables).W\n",
    "    train_predicts = classifier.predict(training_data)\n",
    "    test_predicts = classifier.predict(test_data)\n",
    "    print(f\"W = {W.tolist()}\")\n",
    "    print(\"MSE of train set is:\", mean_squared_error(y_true=trn_lables, y_pred=train_predicts))\n",
    "    print(\"MSE of test set is:\", mean_squared_error(y_true=tst_lables, y_pred=test_predicts))\n",
    "    print(\"Accuracy of train set is:\", accuracy_score(y_true=trn_lables, y_pred=train_predicts))\n",
    "    print(\"Accuracy of test set is:\", accuracy_score(y_true=tst_lables, y_pred=test_predicts))\n",
    "    print(\"Confusion matrix of train set is:\\n\", confusion_matrix(y_true=trn_lables, y_pred=train_predicts))\n",
    "    print(\"Confusion matrix of test set is:\\n\", confusion_matrix(y_true=tst_lables, y_pred=test_predicts))\n",
    "    plt.plot(range(1, len(classifier.errors) + 1), classifier.errors)\n",
    "    plt.xlabel('Epochs')\n",
    "    plt.ylabel('Log Loss')\n",
    "    plt.title('Training Curve')\n",
    "    plt.show()\n"
   ]
  },
  {
   "cell_type": "code",
   "execution_count": 40,
   "id": "0d1d0784",
   "metadata": {
    "scrolled": true
   },
   "outputs": [
    {
     "name": "stdout",
     "output_type": "stream",
     "text": [
      "W = [1.021842598189251, 1.0593960775331839]\n",
      "MSE of train set is: 0.096\n",
      "MSE of test set is: 0.07\n",
      "Accuracy of train set is: 0.904\n",
      "Accuracy of test set is: 0.93\n",
      "Confusion matrix of train set is:\n",
      " [[ 90   5]\n",
      " [ 19 136]]\n",
      "Confusion matrix of test set is:\n",
      " [[38  0]\n",
      " [ 7 55]]\n"
     ]
    },
    {
     "data": {
      "image/png": "[encoded data removed]",
      "text/plain": [
       "<Figure size 640x480 with 1 Axes>"
      ]
     },
     "metadata": {},
     "output_type": "display_data"
    }
   ],
   "source": [
    "classification_report(X_train, y_train, X_test, y_test, T=50, LR_function=None)"
   ]
  },
  {
   "cell_type": "markdown",
   "id": "27208079",
   "metadata": {},
   "source": [
    "# e"
   ]
  },
  {
   "cell_type": "code",
   "execution_count": 41,
   "id": "cbb6351a",
   "metadata": {},
   "outputs": [
    {
     "name": "stdout",
     "output_type": "stream",
     "text": [
      "W = [1.3944512113561893, 1.9368859087991566]\n",
      "MSE of train set is: 0.1\n",
      "MSE of test set is: 0.1\n",
      "Accuracy of train set is: 0.9\n",
      "Accuracy of test set is: 0.9\n",
      "Confusion matrix of train set is:\n",
      " [[ 87   8]\n",
      " [ 17 138]]\n",
      "Confusion matrix of test set is:\n",
      " [[34  4]\n",
      " [ 6 56]]\n"
     ]
    },
    {
     "data": {
      "image/png": "[encoded data removed]",
      "text/plain": [
       "<Figure size 640x480 with 1 Axes>"
      ]
     },
     "metadata": {},
     "output_type": "display_data"
    }
   ],
   "source": [
    "classification_report(X_train, y_train, X_test, y_test, 50, lambda t:(1/t)**0.5)"
   ]
  },
  {
   "cell_type": "markdown",
   "id": "ce539885",
   "metadata": {},
   "source": [
    "# f"
   ]
  },
  {
   "cell_type": "code",
   "execution_count": 55,
   "id": "c3a2bff9",
   "metadata": {},
   "outputs": [],
   "source": [
    "def sigmoid(z):\n",
    "    return 1/(1+np.e**(-z))"
   ]
  },
  {
   "cell_type": "code",
   "execution_count": 56,
   "id": "0f1eff49",
   "metadata": {},
   "outputs": [],
   "source": [
    "class LRGD:\n",
    "    def __init__(self, epochs, LR_function):\n",
    "        self.epochs = epochs\n",
    "        self.LR_function = LR_function\n",
    "        self.W = None\n",
    "        self.errors = []\n",
    "\n",
    "    def fit(self, X, Y):\n",
    "        N, M = X.shape\n",
    "        X = np.insert(X.values, 0, 1, axis=1)\n",
    "        Y = Y.values.reshape((-1, 1))\n",
    "        W = np.zeros((M+1, 1))\n",
    "\n",
    "        for t in range(1, self.epochs+1):\n",
    "            learning_rate = self.LR_function(t)\n",
    "            epoch_errors = []\n",
    "            for i in range(N):\n",
    "                x_i = X[i].reshape((M+1, 1))\n",
    "                y_i = Y[i][0]\n",
    "                error = y_i - sigmoid(W.T.dot(x_i))[0][0]\n",
    "                epoch_errors.append(abs(error))\n",
    "                W += learning_rate * error * x_i\n",
    "            self.errors.append(np.mean(epoch_errors))\n",
    "\n",
    "        self.W = W.flatten()\n",
    "        return self.W, self.errors\n",
    "\n",
    "    def predict_point(self, x):\n",
    "        x = np.insert(x, 0, 1)\n",
    "        p = sigmoid(self.W.T.dot(x))\n",
    "        if p < 0.5:\n",
    "            return 0\n",
    "        else:\n",
    "            return 1\n",
    "\n",
    "    \n",
    "    \n",
    "    def predict(self, test_data):\n",
    "        predictions = []\n",
    "        for i, row in test_data.iterrows():\n",
    "            x = np.insert(row.values.reshape(-1), 0, 1)\n",
    "            p = sigmoid(self.W.T.dot(x))\n",
    "            if p < 0.5:\n",
    "                predictions.append(0)\n",
    "            else:\n",
    "                predictions.append(1)\n",
    "        return predictions\n",
    "\n"
   ]
  },
  {
   "cell_type": "code",
   "execution_count": 57,
   "id": "ddbfd5f7",
   "metadata": {},
   "outputs": [],
   "source": [
    "import matplotlib.pyplot as plt\n",
    "from sklearn.metrics import mean_squared_error, accuracy_score, confusion_matrix\n",
    "\n",
    "def classification_report(training_data, trn_lables, test_data, tst_lables, T=500, LR_function=None):\n",
    "    classifier = LRGD(epochs=T, lr_fun=LR_function)\n",
    "    W = classifier.fit(training_data, trn_lables).W\n",
    "    train_predicts = classifier.predict(training_data)\n",
    "    test_predicts = classifier.predict(test_data)\n",
    "    print(f\"W = {W.tolist()}\")\n",
    "    print(\"MSE of train set is:\", mean_squared_error(y_true=trn_lables, y_pred=train_predicts))\n",
    "    print(\"MSE of test set is:\", mean_squared_error(y_true=tst_lables, y_pred=test_predicts))\n",
    "    print(\"Accuracy of train set is:\", accuracy_score(y_true=trn_lables, y_pred=train_predicts))\n",
    "    print(\"Accuracy of test set is:\", accuracy_score(y_true=tst_lables, y_pred=test_predicts))\n",
    "    print(\"Confusion matrix of train set is:\\n\", confusion_matrix(y_true=trn_lables, y_pred=train_predicts))\n",
    "    print(\"Confusion matrix of test set is:\\n\", confusion_matrix(y_true=tst_lables, y_pred=test_predicts))\n",
    "    plt.plot(range(1, len(classifier.errors) + 1), classifier.errors)\n",
    "    plt.xlabel('Epochs')\n",
    "    plt.ylabel('Log Loss')\n",
    "    plt.title('Training Curve')\n",
    "    plt.show()\n"
   ]
  },
  {
   "cell_type": "code",
   "execution_count": 58,
   "id": "017f766b",
   "metadata": {},
   "outputs": [],
   "source": [
    "class Online_LRGD:\n",
    "    def __init__(self):\n",
    "        self.W = None\n",
    "        self.errors_dict = {}\n",
    "\n",
    "    def fit(self,x,y,learning_rate):\n",
    "        if self.W is None:\n",
    "            W = np.ones(len(x))\n",
    "        error = (y - 1 / (1 + np.exp(-np.matmul(self.W,x)))) \n",
    "        W += learning_rate * error * x\n",
    "        self.W = W \n",
    "        if epoch in self.errors_dict:\n",
    "            self.errors_dict[epoch].append(abs(error))\n",
    "        else:\n",
    "            self.errors_dict[epoch] =[abs(error)]\n",
    "        return W,error\n",
    "    \n",
    "    @property\n",
    "    def cal_errors(self):\n",
    "        results = []\n",
    "        for key in self.errors_dict.keys():\n",
    "            results.append(np.mean(self.errors_dict[key]))\n",
    "    \n",
    "    def predict_point(self,x):\n",
    "        p = 1 / (1 + np.exp(-np.matmul(self.W , x)))\n",
    "        return 0 if p < 0.5 else 1\n",
    "    \n",
    "    def predict(self,test_data):\n",
    "        return test_data.apply(lambda row:self.predict_point(row),axis=1)\n",
    "    \n",
    "    "
   ]
  },
  {
   "cell_type": "code",
   "execution_count": 59,
   "id": "c1801fdf",
   "metadata": {},
   "outputs": [],
   "source": [
    "def LRGD_online_Classifier(training_data, trn_lables, epochs_number, LR_function):\n",
    "    # Initialize classifier and error list\n",
    "    classifier = Online_LRGD()\n",
    "    errors_list = []\n",
    "\n",
    "    # Train for specified number of epochs\n",
    "    for epoch in range(epochs_number):\n",
    "        epoch_errors = []\n",
    "\n",
    "        # Train on each example in the training set\n",
    "        for i, x in training_data.iterrows():\n",
    "            y = trn_lables.loc[i]\n",
    "            W, error = classifier.fit(x, y, LR_function(epoch+1))\n",
    "            epoch_errors.append(abs(error))\n",
    "\n",
    "        # Compute mean error for epoch and save to list\n",
    "        mean_error = np.mean(epoch_errors)\n",
    "        errors_list.append(mean_error)\n",
    "    \n",
    "    # Save errors to classifier object and return weights and errors\n",
    "    classifier.cal_errors = {i+1: error for i, error in enumerate(errors_list)}\n",
    "    return classifier.W, errors_list\n"
   ]
  },
  {
   "cell_type": "code",
   "execution_count": 60,
   "id": "6114e7f3",
   "metadata": {},
   "outputs": [],
   "source": [
    "def do_OnlineLRGD_classify(training_data,trn_lables,test_data,tst_lables ,T, LR_function):\n",
    "    classifier = LRGD(epochs=T ,LR_function=LR_function)\n",
    "    W,errors = classifier.fit(training_data , trn_lables)\n",
    "    train_predicts = classifier.predict(training_data)\n",
    "    test_predicts = classifier.predict(test_data)\n",
    "    print(f\"W = {W.tolist()}\")\n",
    "    print(\"MSE of train set is:\", mean_squared_error(y_pred=train_predicts,y_true=trn_lables))\n",
    "    print(\"MSE of test set is:\", mean_squared_error(y_pred=test_predicts,y_true=tst_lables))\n",
    "    print(\"accuracy of train set is:\", accuracy_score(y_pred=train_predicts,y_true=trn_lables))\n",
    "    print(\"accuracy of test set is:\", accuracy_score(y_pred=test_predicts,y_true=tst_lables))\n",
    "    print(\"confusion matrix of train set is:\", confusion_matrix(y_pred=train_predicts,y_true=trn_lables))\n",
    "    print(\"confusion matrix of test set is:\", confusion_matrix(y_pred=test_predicts,y_true=tst_lables))\n",
    "    plt.plot(range(1,len(errors)+1) , errors)"
   ]
  },
  {
   "cell_type": "code",
   "execution_count": 61,
   "id": "54c9312f",
   "metadata": {},
   "outputs": [
    {
     "name": "stdout",
     "output_type": "stream",
     "text": [
      "W = [1.010153116907033, 3.0895379406040004, 2.8950757065534174]\n",
      "MSE of train set is: 0.108\n",
      "MSE of test set is: 0.09\n",
      "accuracy of train set is: 0.892\n",
      "accuracy of test set is: 0.91\n",
      "confusion matrix of train set is: [[ 85  10]\n",
      " [ 17 138]]\n",
      "confusion matrix of test set is: [[32  6]\n",
      " [ 3 59]]\n"
     ]
    },
    {
     "data": {
      "image/png": "[encoded data removed]",
      "text/plain": [
       "<Figure size 640x480 with 1 Axes>"
      ]
     },
     "metadata": {},
     "output_type": "display_data"
    }
   ],
   "source": [
    "do_OnlineLRGD_classify(X_train,y_train,X_test, y_test,500, lambda t:2/t)"
   ]
  },
  {
   "cell_type": "code",
   "execution_count": null,
   "id": "930101b4",
   "metadata": {},
   "outputs": [],
   "source": [
    "do_OnlineLRGD_classify(X_train,y_train,X_test, y_test,50, lambda t:0.1)"
   ]
  },
  {
   "cell_type": "code",
   "execution_count": null,
   "id": "0398d687",
   "metadata": {},
   "outputs": [],
   "source": [
    "do_OnlineLRGD_classify(X_train,y_train,X_test, y_test,50,lambda t:0.5)"
   ]
  },
  {
   "cell_type": "markdown",
   "id": "53c60ad1",
   "metadata": {},
   "source": [
    "# Q5"
   ]
  },
  {
   "cell_type": "code",
   "execution_count": null,
   "id": "e5966eca",
   "metadata": {},
   "outputs": [],
   "source": [
    "from sklearn.naive_bayes import GaussianNB\n",
    "from sklearn.metrics import accuracy_score\n",
    "\n",
    "# Initialize a Gaussian Naive Bayes model\n",
    "nb_model = GaussianNB()\n",
    "\n",
    "# Train the model on the training data\n",
    "nb_model.fit(X_train, y_train)\n",
    "\n",
    "# Make predictions on the training and testing data\n",
    "y_train_pred = nb_model.predict(X_train)\n",
    "y_test_pred = nb_model.predict(X_test)\n",
    "\n",
    "# Calculate the accuracy of the model on the training and testing data\n",
    "train_accuracy = accuracy_score(y_train, y_train_pred)\n",
    "test_accuracy = accuracy_score(y_test, y_test_pred)\n",
    "\n",
    "# Print the updated parameters and accuracy\n",
    "print(\"Updated Parameters:\\n\", nb_model.theta_, nb_model.sigma_)\n",
    "print(\"Train Accuracy: \", train_accuracy)\n",
    "print(\"Test Accuracy: \", test_accuracy)\n"
   ]
  },
  {
   "cell_type": "markdown",
   "id": "04a89891",
   "metadata": {},
   "source": [
    "# Q6"
   ]
  },
  {
   "cell_type": "code",
   "execution_count": null,
   "id": "e4cc1e4b",
   "metadata": {},
   "outputs": [],
   "source": [
    "import pandas as pd\n",
    "from sklearn.model_selection import train_test_split\n",
    "from sklearn.discriminant_analysis import QuadraticDiscriminantAnalysis\n",
    "from sklearn.metrics import accuracy_score\n",
    "\n",
    "\n",
    "# Create a QDA classifier with hyperparameters\n",
    "clf = QuadraticDiscriminantAnalysis(reg_param=0.5, store_covariance=True)\n",
    "\n",
    "# Train the classifier on the training data\n",
    "clf.fit(X_train, y_train)\n",
    "\n",
    "# Make predictions on the training data\n",
    "y_train_pred = clf.predict(X_train)\n",
    "\n",
    "# Calculate the accuracy of the model on the training data\n",
    "train_accuracy = accuracy_score(y_train, y_train_pred)\n",
    "print(\"Accuracy for training set = \", train_accuracy)\n",
    "\n",
    "# Make predictions on the testing data\n",
    "y_test_pred = clf.predict(X_test)\n",
    "\n",
    "# Calculate the accuracy of the model on the testing data\n",
    "test_accuracy = accuracy_score(y_test, y_test_pred)\n",
    "print(\"Accuracy for testing set = \", test_accuracy)\n"
   ]
  },
  {
   "cell_type": "markdown",
   "id": "ec12aac4",
   "metadata": {},
   "source": [
    "# Q7"
   ]
  },
  {
   "cell_type": "code",
   "execution_count": null,
   "id": "4e0a883a",
   "metadata": {},
   "outputs": [],
   "source": [
    "pima_data = pd.read_csv('diabetes.csv')"
   ]
  },
  {
   "cell_type": "code",
   "execution_count": null,
   "id": "68a9de77",
   "metadata": {},
   "outputs": [],
   "source": [
    "#Pima data Efraz"
   ]
  },
  {
   "cell_type": "code",
   "execution_count": null,
   "id": "2d093da6",
   "metadata": {},
   "outputs": [],
   "source": [
    "#a"
   ]
  },
  {
   "cell_type": "code",
   "execution_count": null,
   "id": "a25673bc",
   "metadata": {},
   "outputs": [],
   "source": [
    "import statistics\n",
    "from sklearn.linear_model import LogisticRegression\n",
    "from sklearn.model_selection import train_test_split\n",
    "from sklearn.metrics import accuracy_score\n",
    "\n",
    "# Assuming that the data is loaded into a variable called 'pima_data'\n",
    "negative = pima_data[pima_data['Outcome']==0]\n",
    "positive = pima_data[pima_data['Outcome']==1]\n",
    "\n",
    "neg_Pregnancies = negative['Pregnancies'][:]\n",
    "neg_Glucose = negative['Glucose'][:]\n",
    "neg_BloodPressure = negative['BloodPressure'][:]\n",
    "neg_SkinThickness = negative['SkinThickness'][:]\n",
    "neg_Insulin = negative['Insulin'][:]\n",
    "neg_BMI = negative['BMI'][:]\n",
    "neg_DiabetesPedigreeFunction = negative['DiabetesPedigreeFunction'][:]\n",
    "neg_Age = negative['Age'][:]\n",
    "neg_class = negative['Outcome'][:]\n",
    "negative_attributes=[neg_Pregnancies,neg_Glucose,neg_BloodPressure,neg_SkinThickness,neg_Insulin,neg_BMI,\n",
    "                     neg_DiabetesPedigreeFunction,neg_Age]\n",
    "\n",
    "pos_Pregnancies = positive['Pregnancies'][:]\n",
    "pos_Glucose = positive['Glucose'][:]\n",
    "pos_BloodPressure = positive['BloodPressure'][:]\n",
    "pos_SkinThickness = positive['SkinThickness'][:]\n",
    "pos_Insulin = positive['Insulin'][:]\n",
    "pos_BMI = positive['BMI'][:]\n",
    "pos_DiabetesPedigreeFunction = positive['DiabetesPedigreeFunction'][:]\n",
    "pos_Age = positive['Age'][:]\n",
    "pos_class = positive['Outcome'][:]\n",
    "positive_attributes=[pos_Pregnancies,pos_Glucose,pos_BloodPressure,pos_SkinThickness,pos_Insulin,pos_BMI,\n",
    "                     pos_DiabetesPedigreeFunction,pos_Age]\n",
    "\n",
    "neg_means=[]\n",
    "neg_stds=[]\n",
    "pos_means=[]\n",
    "pos_stds=[]\n",
    "\n",
    "for att in negative_attributes:\n",
    "    neg_means.append(statistics.mean(att))\n",
    "    neg_stds.append(np.std(att))\n",
    "    \n",
    "for att in positive_attributes:\n",
    "    pos_means.append(statistics.mean(att))\n",
    "    pos_stds.append(np.std(att))\n",
    "\n",
    "neg_df = pd.DataFrame({'mean' : neg_means,'std' : neg_stds},\n",
    "                       index=['Pregnancies','Glucose', 'BloodPressure','SkinThickness','Insulin','BMI','DiabetesPedigreeFunction','Age'])\n",
    "\n",
    "pos_df = pd.DataFrame({'mean' : pos_means,'std' : pos_stds},\n",
    "                       index=['Pregnancies','Glucose', 'BloodPressure','SkinThickness','Insulin','BMI','DiabetesPedigreeFunction','Age'])\n",
    "\n",
    "# Split the data into training and testing sets\n",
    "X = pima_data.drop('Outcome', axis=1)\n",
    "y = pima_data['Outcome']\n",
    "X_train, X_test, y_train, y_test = train_test_split(X, y, test_size=0.2, random_state=42)\n",
    "\n",
    "# create a logistic regression model and fit it to the training data\n",
    "logreg = LogisticRegression()\n",
    "logreg.fit(X_train, y_train)\n",
    "\n",
    "# make predictions on the testing data\n",
    "y_pred = logreg.predict(X_test)\n",
    "\n",
    "# evaluate the accuracy of the model\n",
    "accuracy = accuracy_score(y_test, y_pred)\n",
    "print(\"Accuracy:\", accuracy)\n"
   ]
  },
  {
   "cell_type": "code",
   "execution_count": null,
   "id": "cea037f0",
   "metadata": {},
   "outputs": [],
   "source": [
    "#b "
   ]
  },
  {
   "cell_type": "code",
   "execution_count": null,
   "id": "7e5b0d44",
   "metadata": {},
   "outputs": [],
   "source": [
    "import statistics\n",
    "import random\n",
    "from sklearn.linear_model import LogisticRegression\n",
    "from sklearn.metrics import accuracy_score\n",
    "\n",
    "def divideset1(ds, p_train):\n",
    "    training = []\n",
    "    testing = []\n",
    "    for i in range(len(ds)):\n",
    "        r=random.random()\n",
    "        if r < p_train:\n",
    "            training.append(ds.iloc[i])\n",
    "        else:\n",
    "            testing.append(ds.iloc[i])\n",
    "    return (pd.DataFrame(training), pd.DataFrame(testing))\n",
    "\n",
    "num_iteration=20\n",
    "p_train=0.66\n",
    "\n",
    "len_training=[]\n",
    "len_testing=[]\n",
    "\n",
    "for i in range(num_iteration):\n",
    "    train_set, test_set = divideset1(pima_data, p_train)\n",
    "\n",
    "    # calculate mean and standard deviation for each attribute for negative and positive classes\n",
    "    negative = train_set[train_set['Outcome']==0]\n",
    "    positive = train_set[train_set['Outcome']==1]\n",
    "\n",
    "    neg_means=[]\n",
    "    neg_stds=[]\n",
    "    pos_means=[]\n",
    "    pos_stds=[]\n",
    "\n",
    "    for col in X_train.columns:\n",
    "        neg_means.append(negative[col].mean())\n",
    "        neg_stds.append(np.std(negative[col]))\n",
    "        pos_means.append(positive[col].mean())\n",
    "        pos_stds.append(np.std(positive[col]))\n",
    "\n",
    "    neg_df = pd.DataFrame({'mean' : neg_means,'std' : neg_stds},\n",
    "                           index=X_train.columns)\n",
    "\n",
    "    pos_df = pd.DataFrame({'mean' : pos_means,'std' : pos_stds},\n",
    "                           index=X_train.columns)\n",
    "\n",
    "    # normalize the data using z-score normalization\n",
    "    train_norm = (train_set[X_train.columns] - neg_df['mean']) / neg_df['std']\n",
    "    test_norm = (test_set[X_train.columns] - neg_df['mean']) / neg_df['std']\n",
    "\n",
    "    # create a logistic regression model and fit it to the training data\n",
    "    logreg = LogisticRegression()\n",
    "    logreg.fit(train_norm, train_set['Outcome'])\n",
    "\n",
    "    # make predictions on the testing data\n",
    "    y_pred = logreg.predict(test_norm)\n",
    "\n",
    "    # evaluate the accuracy of the model\n",
    "    accuracy = accuracy_score(test_set['Outcome'], y_pred)\n",
    "    print(\"Iteration:\", i+1, \"Accuracy:\", accuracy)\n",
    "\n",
    "    len_training.append(len(train_set))\n",
    "    len_testing.append(len(test_set))\n",
    "\n",
    "print(\"Average training set size:\", statistics.mean(len_training))\n",
    "print(\"Average testing set size:\", statistics.mean(len_testing))\n"
   ]
  },
  {
   "cell_type": "code",
   "execution_count": null,
   "id": "1fc71a7b",
   "metadata": {},
   "outputs": [],
   "source": [
    "#c"
   ]
  },
  {
   "cell_type": "code",
   "execution_count": null,
   "id": "b5780f2c",
   "metadata": {},
   "outputs": [],
   "source": [
    "import statistics\n",
    "import random\n",
    "import numpy as np\n",
    "from sklearn.linear_model import LogisticRegression\n",
    "from sklearn.metrics import accuracy_score\n",
    "\n",
    "def divideset2(ds, p_train):\n",
    "    training = []\n",
    "    testing = []\n",
    "    dataset_size = len(ds)\n",
    "    training_size = int(dataset_size * p_train) \n",
    "    trn_counter = 0\n",
    "    used_data = np.zeros((dataset_size, 1))\n",
    "\n",
    "    while trn_counter < training_size:\n",
    "        rnd = random.randint(0, dataset_size-1)\n",
    "        if used_data[rnd] == 0:\n",
    "            used_data[rnd] = 1\n",
    "            trn_counter += 1\n",
    "            training.append(ds.iloc[rnd])\n",
    "        \n",
    "    for i in range(dataset_size):\n",
    "        if used_data[i] == 0:\n",
    "            testing.append(ds.iloc[i])\n",
    "            \n",
    "    return (pd.DataFrame(training), pd.DataFrame(testing))\n",
    "\n",
    "num_iteration=20\n",
    "p_train=0.66\n",
    "\n",
    "len_training=[]\n",
    "len_testing=[]\n",
    "\n",
    "for i in range(num_iteration):\n",
    "    train_set, test_set = divideset2(pima_data, p_train)\n",
    "\n",
    "    # calculate mean and standard deviation for each attribute for negative and positive classes\n",
    "    negative = train_set[train_set['Outcome']==0]\n",
    "    positive = train_set[train_set['Outcome']==1]\n",
    "\n",
    "    neg_means=[]\n",
    "    neg_stds=[]\n",
    "    pos_means=[]\n",
    "    pos_stds=[]\n",
    "\n",
    "    for col in X_train.columns:\n",
    "        neg_means.append(negative[col].mean())\n",
    "        neg_stds.append(np.std(negative[col]))\n",
    "        pos_means.append(positive[col].mean())\n",
    "        pos_stds.append(np.std(positive[col]))\n",
    "\n",
    "    neg_df = pd.DataFrame({'mean' : neg_means,'std' : neg_stds},\n",
    "                           index=X_train.columns)\n",
    "\n",
    "    pos_df = pd.DataFrame({'mean' : pos_means,'std' : pos_stds},\n",
    "                           index=X_train.columns)\n",
    "\n",
    "    # normalize the data using z-score normalization\n",
    "    train_norm = (train_set[X_train.columns] - neg_df['mean']) / neg_df['std']\n",
    "    test_norm = (test_set[X_train.columns] - neg_df['mean']) / neg_df['std']\n",
    "\n",
    "    # create a logistic regression model and fit it to the training data\n",
    "    logreg = LogisticRegression()\n",
    "    logreg.fit(train_norm, train_set['Outcome'])\n",
    "\n",
    "    # make predictions on the testing data\n",
    "    y_pred = logreg.predict(test_norm)\n",
    "\n",
    "    # evaluate the accuracy of the model\n",
    "    accuracy = accuracy_score(test_set['Outcome'], y_pred)\n",
    "    print(\"Iteration:\", i+1, \"Accuracy:\", accuracy)\n",
    "\n",
    "    len_training.append(len(train_set))\n",
    "    len_testing.append(len(test_set))\n",
    "\n",
    "print(\"Average training set size:\", statistics.mean(len_training))\n",
    "print(\"Average testing set size:\", statistics.mean(len_testing))\n"
   ]
  },
  {
   "cell_type": "markdown",
   "id": "554816a6",
   "metadata": {},
   "source": [
    "# Q8"
   ]
  },
  {
   "cell_type": "code",
   "execution_count": null,
   "id": "b080b44d",
   "metadata": {},
   "outputs": [],
   "source": [
    "#a"
   ]
  },
  {
   "cell_type": "code",
   "execution_count": null,
   "id": "b84990b5",
   "metadata": {},
   "outputs": [],
   "source": [
    "import statistics\n",
    "import numpy as np\n",
    "from sklearn.naive_bayes import GaussianNB\n",
    "from sklearn.model_selection import train_test_split\n",
    "from sklearn.metrics import accuracy_score\n",
    "\n",
    "# Assuming that the data is loaded into a variable called 'pima_data'\n",
    "negative = pima_data[pima_data['Outcome']==0]\n",
    "positive = pima_data[pima_data['Outcome']==1]\n",
    "\n",
    "neg_Pregnancies = negative['Pregnancies'][:]\n",
    "neg_Glucose = negative['Glucose'][:]\n",
    "neg_BloodPressure = negative['BloodPressure'][:]\n",
    "neg_SkinThickness = negative['SkinThickness'][:]\n",
    "neg_Insulin = negative['Insulin'][:]\n",
    "neg_BMI = negative['BMI'][:]\n",
    "neg_DiabetesPedigreeFunction = negative['DiabetesPedigreeFunction'][:]\n",
    "neg_Age = negative['Age'][:]\n",
    "neg_class = negative['Outcome'][:]\n",
    "negative_attributes=[neg_Pregnancies,neg_Glucose,neg_BloodPressure,neg_SkinThickness,neg_Insulin,neg_BMI,\n",
    "                     neg_DiabetesPedigreeFunction,neg_Age]\n",
    "\n",
    "pos_Pregnancies = positive['Pregnancies'][:]\n",
    "pos_Glucose = positive['Glucose'][:]\n",
    "pos_BloodPressure = positive['BloodPressure'][:]\n",
    "pos_SkinThickness = positive['SkinThickness'][:]\n",
    "pos_Insulin = positive['Insulin'][:]\n",
    "pos_BMI = positive['BMI'][:]\n",
    "pos_DiabetesPedigreeFunction = positive['DiabetesPedigreeFunction'][:]\n",
    "pos_Age = positive['Age'][:]\n",
    "pos_class = positive['Outcome'][:]\n",
    "positive_attributes=[pos_Pregnancies,pos_Glucose,pos_BloodPressure,pos_SkinThickness,pos_Insulin,pos_BMI,\n",
    "                     pos_DiabetesPedigreeFunction,pos_Age]\n",
    "\n",
    "neg_means=[]\n",
    "neg_stds=[]\n",
    "pos_means=[]\n",
    "pos_stds=[]\n",
    "\n",
    "for att in negative_attributes:\n",
    "    neg_means.append(statistics.mean(att))\n",
    "    neg_stds.append(np.std(att))\n",
    "    \n",
    "for att in positive_attributes:\n",
    "    pos_means.append(statistics.mean(att))\n",
    "    pos_stds.append(np.std(att))\n",
    "\n",
    "neg_df = pd.DataFrame({'mean' : neg_means,'std' : neg_stds},\n",
    "                       index=['Pregnancies','Glucose', 'BloodPressure','SkinThickness','Insulin','BMI','DiabetesPedigreeFunction','Age'])\n",
    "\n",
    "pos_df = pd.DataFrame({'mean' : pos_means,'std' : pos_stds},\n",
    "                       index=['Pregnancies','Glucose', 'BloodPressure','SkinThickness','Insulin','BMI','DiabetesPedigreeFunction','Age'])\n",
    "\n",
    "# Split the data into training and testing sets\n",
    "X = pima_data.drop('Outcome', axis=1)\n",
    "y = pima_data['Outcome']\n",
    "X_train, X_test, y_train, y_test = train_test_split(X, y, test_size=0.2, random_state=42)\n",
    "\n",
    "# normalize the data using z-score normalization\n",
    "X_train_norm = (X_train - neg_df['mean']) / neg_df['std']\n",
    "X_test_norm = (X_test - neg_df['mean']) / neg_df['std']\n",
    "\n",
    "# create a naive bayes model and fit it to the training data\n",
    "nb = GaussianNB()\n",
    "nb.fit(X_train_norm, y_train)\n",
    "\n",
    "# make predictions on the testing data\n",
    "y_pred = nb.predict(X_test_norm)\n",
    "\n",
    "# evaluate the accuracy of the model\n",
    "accuracy = accuracy_score(y_test, y_pred)\n",
    "print(\"Accuracy:\", accuracy)\n"
   ]
  },
  {
   "cell_type": "code",
   "execution_count": null,
   "id": "65713c9f",
   "metadata": {},
   "outputs": [],
   "source": [
    "#b"
   ]
  },
  {
   "cell_type": "code",
   "execution_count": null,
   "id": "ba79ee39",
   "metadata": {},
   "outputs": [],
   "source": [
    "import statistics\n",
    "import random\n",
    "import numpy as np\n",
    "from sklearn.naive_bayes import GaussianNB\n",
    "from sklearn.metrics import accuracy_score\n",
    "\n",
    "def divideset1(ds, p_train):\n",
    "    training = []\n",
    "    testing = []\n",
    "    for i in range(len(ds)):\n",
    "        r=random.random()\n",
    "        if r < p_train:\n",
    "            training.append(ds.iloc[i])\n",
    "        else:\n",
    "            testing.append(ds.iloc[i])\n",
    "    return (pd.DataFrame(training), pd.DataFrame(testing))\n",
    "\n",
    "num_iteration=20\n",
    "p_train=0.66\n",
    "\n",
    "len_training=[]\n",
    "len_testing=[]\n",
    "\n",
    "for i in range(num_iteration):\n",
    "    train_set, test_set = divideset1(pima_data, p_train)\n",
    "\n",
    "    # separate the target variable from the predictors in both the training and testing sets\n",
    "    X_train = train_set.drop('Outcome', axis=1)\n",
    "    y_train = train_set['Outcome']\n",
    "    X_test = test_set.drop('Outcome', axis=1)\n",
    "    y_test = test_set['Outcome']\n",
    "\n",
    "    # create a naive bayes model and fit it to the training data\n",
    "    nb = GaussianNB()\n",
    "    nb.fit(X_train, y_train)\n",
    "\n",
    "    # make predictions on the testing data\n",
    "    y_pred = nb.predict(X_test)\n",
    "\n",
    "    # evaluate the accuracy of the model\n",
    "    accuracy = accuracy_score(y_test, y_pred)\n",
    "    print(\"Iteration:\", i+1, \"Accuracy:\", accuracy)\n",
    "\n",
    "    len_training.append(len(train_set))\n",
    "    len_testing.append(len(test_set))\n",
    "\n",
    "print(\"Average training set size:\", statistics.mean(len_training))\n",
    "print(\"Average testing set size:\", statistics.mean(len_testing))\n"
   ]
  },
  {
   "cell_type": "code",
   "execution_count": null,
   "id": "d06894c6",
   "metadata": {},
   "outputs": [],
   "source": [
    "#c"
   ]
  },
  {
   "cell_type": "code",
   "execution_count": null,
   "id": "9528f3b4",
   "metadata": {},
   "outputs": [],
   "source": [
    "import statistics\n",
    "import random\n",
    "import numpy as np\n",
    "from sklearn.naive_bayes import GaussianNB\n",
    "from sklearn.metrics import accuracy_score\n",
    "\n",
    "def divideset2(ds, p_train):\n",
    "    training = []\n",
    "    testing = []\n",
    "    dataset_size = len(ds)\n",
    "    training_size = int(dataset_size * p_train) \n",
    "    trn_counter = 0\n",
    "    used_data = np.zeros((dataset_size, 1))\n",
    "\n",
    "    while trn_counter < training_size:\n",
    "        rnd = random.randint(0, dataset_size-1)\n",
    "        if used_data[rnd] == 0:\n",
    "            used_data[rnd] = 1\n",
    "            trn_counter += 1\n",
    "            training.append(ds.iloc[rnd])\n",
    "        \n",
    "    for i in range(dataset_size):\n",
    "        if used_data[i] == 0:\n",
    "            testing.append(ds.iloc[i])\n",
    "            \n",
    "    return (pd.DataFrame(training), pd.DataFrame(testing))\n",
    "\n",
    "num_iteration=20\n",
    "p_train=0.66\n",
    "\n",
    "len_training=[]\n",
    "len_testing=[]\n",
    "\n",
    "for i in range(num_iteration):\n",
    "    train_set, test_set = divideset2(pima_data, p_train)\n",
    "\n",
    "    # separate the target variable from the predictors in both the training and testing sets\n",
    "    X_train = train_set.drop('Outcome', axis=1)\n",
    "    y_train = train_set['Outcome']\n",
    "    X_test = test_set.drop('Outcome', axis=1)\n",
    "    y_test = test_set['Outcome']\n",
    "\n",
    "    # create a naive bayes model and fit it to the training data\n",
    "    nb = GaussianNB()\n",
    "    nb.fit(X_train, y_train)\n",
    "\n",
    "    # make predictions on the testing data\n",
    "    y_pred = nb.predict(X_test)\n",
    "\n",
    "    # evaluate the accuracy of the model\n",
    "    accuracy = accuracy_score(y_test, y_pred)\n",
    "    print(\"Iteration:\", i+1, \"Accuracy:\", accuracy)\n",
    "\n",
    "    len_training.append(len(train_set))\n",
    "    len_testing.append(len(test_set))\n",
    "\n",
    "print(\"Average training set size:\", statistics.mean(len_training))\n",
    "print(\"Average testing set size:\", statistics.mean(len_testing))\n"
   ]
  },
  {
   "cell_type": "markdown",
   "id": "01744b70",
   "metadata": {},
   "source": [
    "# Q9"
   ]
  },
  {
   "cell_type": "code",
   "execution_count": null,
   "id": "c09e3ba2",
   "metadata": {},
   "outputs": [],
   "source": [
    "#a"
   ]
  },
  {
   "cell_type": "code",
   "execution_count": null,
   "id": "88a0e269",
   "metadata": {},
   "outputs": [],
   "source": [
    "import statistics\n",
    "import numpy as np\n",
    "from sklearn.discriminant_analysis import QuadraticDiscriminantAnalysis\n",
    "from sklearn.model_selection import train_test_split\n",
    "from sklearn.metrics import accuracy_score\n",
    "\n",
    "# Assuming that the data is loaded into a variable called 'pima_data'\n",
    "negative = pima_data[pima_data['Outcome']==0]\n",
    "positive = pima_data[pima_data['Outcome']==1]\n",
    "\n",
    "neg_Pregnancies = negative['Pregnancies'][:]\n",
    "neg_Glucose = negative['Glucose'][:]\n",
    "neg_BloodPressure = negative['BloodPressure'][:]\n",
    "neg_SkinThickness = negative['SkinThickness'][:]\n",
    "neg_Insulin = negative['Insulin'][:]\n",
    "neg_BMI = negative['BMI'][:]\n",
    "neg_DiabetesPedigreeFunction = negative['DiabetesPedigreeFunction'][:]\n",
    "neg_Age = negative['Age'][:]\n",
    "neg_class = negative['Outcome'][:]\n",
    "negative_attributes=[neg_Pregnancies,neg_Glucose,neg_BloodPressure,neg_SkinThickness,neg_Insulin,neg_BMI,\n",
    "                     neg_DiabetesPedigreeFunction,neg_Age]\n",
    "\n",
    "pos_Pregnancies = positive['Pregnancies'][:]\n",
    "pos_Glucose = positive['Glucose'][:]\n",
    "pos_BloodPressure = positive['BloodPressure'][:]\n",
    "pos_SkinThickness = positive['SkinThickness'][:]\n",
    "pos_Insulin = positive['Insulin'][:]\n",
    "pos_BMI = positive['BMI'][:]\n",
    "pos_DiabetesPedigreeFunction = positive['DiabetesPedigreeFunction'][:]\n",
    "pos_Age = positive['Age'][:]\n",
    "pos_class = positive['Outcome'][:]\n",
    "positive_attributes=[pos_Pregnancies,pos_Glucose,pos_BloodPressure,pos_SkinThickness,pos_Insulin,pos_BMI,\n",
    "                     pos_DiabetesPedigreeFunction,pos_Age]\n",
    "\n",
    "neg_means=[]\n",
    "neg_stds=[]\n",
    "pos_means=[]\n",
    "pos_stds=[]\n",
    "\n",
    "for att in negative_attributes:\n",
    "    neg_means.append(statistics.mean(att))\n",
    "    neg_stds.append(np.std(att))\n",
    "    \n",
    "for att in positive_attributes:\n",
    "    pos_means.append(statistics.mean(att))\n",
    "    pos_stds.append(np.std(att))\n",
    "\n",
    "neg_df = pd.DataFrame({'mean' : neg_means,'std' : neg_stds},\n",
    "                       index=['Pregnancies','Glucose', 'BloodPressure','SkinThickness','Insulin','BMI','DiabetesPedigreeFunction','Age'])\n",
    "\n",
    "pos_df = pd.DataFrame({'mean' : pos_means,'std' : pos_stds},\n",
    "                       index=['Pregnancies','Glucose', 'BloodPressure','SkinThickness','Insulin','BMI','DiabetesPedigreeFunction','Age'])\n",
    "\n",
    "# Split the data into training and testing sets\n",
    "X = pima_data.drop('Outcome', axis=1)\n",
    "y = pima_data['Outcome']\n",
    "X_train, X_test, y_train, y_test = train_test_split(X, y, test_size=0.2, random_state=42)\n",
    "\n",
    "# normalize the data using z-score normalization\n",
    "X_train_norm = (X_train - neg_df['mean']) / neg_df['std']\n",
    "X_test_norm = (X_test - neg_df['mean']) / neg_df['std']\n",
    "\n",
    "# create a QDA model and fit it to the training data\n",
    "qda = QuadraticDiscriminantAnalysis()\n",
    "qda.fit(X_train_norm, y_train)\n",
    "\n",
    "# make predictions on the testing data\n",
    "y_pred = qda.predict(X_test_norm)\n",
    "\n",
    "# evaluate the accuracy of the model\n",
    "accuracy = accuracy_score(y_test, y_pred)\n",
    "print(\"Accuracy:\", accuracy)\n"
   ]
  },
  {
   "cell_type": "code",
   "execution_count": null,
   "id": "214f2994",
   "metadata": {},
   "outputs": [],
   "source": [
    "#b"
   ]
  },
  {
   "cell_type": "code",
   "execution_count": null,
   "id": "e5b7ef91",
   "metadata": {},
   "outputs": [],
   "source": [
    "import statistics\n",
    "import random\n",
    "import numpy as np\n",
    "from sklearn.discriminant_analysis import QuadraticDiscriminantAnalysis as QDA\n",
    "from sklearn.metrics import accuracy_score\n",
    "\n",
    "def divideset1(ds, p_train):\n",
    "    training = []\n",
    "    testing = []\n",
    "    for i in range(len(ds)):\n",
    "        r=random.random()\n",
    "        if r < p_train:\n",
    "            training.append(ds.iloc[i])\n",
    "        else:\n",
    "            testing.append(ds.iloc[i])\n",
    "    return (pd.DataFrame(training), pd.DataFrame(testing))\n",
    "\n",
    "num_iteration=20\n",
    "p_train=0.66\n",
    "\n",
    "len_training=[]\n",
    "len_testing=[]\n",
    "\n",
    "for i in range(num_iteration):\n",
    "    train_set, test_set = divideset1(pima_data, p_train)\n",
    "\n",
    "    # separate the target variable from the predictors in both the training and testing sets\n",
    "    X_train = train_set.drop('Outcome', axis=1)\n",
    "    y_train = train_set['Outcome']\n",
    "    X_test = test_set.drop('Outcome', axis=1)\n",
    "    y_test = test_set['Outcome']\n",
    "\n",
    "    # create a QDA model and fit it to the training data\n",
    "    qda = QDA()\n",
    "    qda.fit(X_train, y_train)\n",
    "\n",
    "    # make predictions on the testing data\n",
    "    y_pred = qda.predict(X_test)\n",
    "\n",
    "    # evaluate the accuracy of the model\n",
    "    accuracy = accuracy_score(y_test, y_pred)\n",
    "    print(\"Iteration:\", i+1, \"Accuracy:\", accuracy)\n",
    "\n",
    "    len_training.append(len(train_set))\n",
    "    len_testing.append(len(test_set))\n",
    "\n",
    "print(\"Average training set size:\", statistics.mean(len_training))\n",
    "print(\"Average testing set size:\", statistics.mean(len_testing))\n"
   ]
  },
  {
   "cell_type": "code",
   "execution_count": null,
   "id": "cb4ced43",
   "metadata": {},
   "outputs": [],
   "source": [
    "#C"
   ]
  },
  {
   "cell_type": "code",
   "execution_count": null,
   "id": "b1a8d111",
   "metadata": {},
   "outputs": [],
   "source": [
    "import statistics\n",
    "import random\n",
    "import numpy as np\n",
    "from sklearn.discriminant_analysis import QuadraticDiscriminantAnalysis as QDA\n",
    "from sklearn.metrics import accuracy_score\n",
    "\n",
    "def divideset2(ds, p_train):\n",
    "    training = []\n",
    "    testing = []\n",
    "    dataset_size = len(ds)\n",
    "    training_size = dataset_size * p_train; \n",
    "    trn_counter = 1\n",
    "    used_data = np.zeros((dataset_size, 1))\n",
    "\n",
    "    while trn_counter < training_size:\n",
    "        d=[i for i in range(dataset_size)]\n",
    "        rnd = random.choice(d)\n",
    "        if used_data[rnd] == 0:\n",
    "            used_data[rnd] = 1\n",
    "            trn_counter = trn_counter + 1\n",
    "            training.append(ds.iloc[rnd])\n",
    "        \n",
    "    for i in range(dataset_size):\n",
    "        if used_data[i] == 0:\n",
    "            testing.append(ds.iloc[i])\n",
    "            \n",
    "    return (pd.DataFrame(training), pd.DataFrame(testing))\n",
    "\n",
    "num_iteration=20\n",
    "p_train=0.66\n",
    "\n",
    "len_training=[]\n",
    "len_testing=[]\n",
    "\n",
    "for i in range(num_iteration):\n",
    "    train_set, test_set = divideset2(pima_data, p_train)\n",
    "\n",
    "    # separate the target variable from the predictors in both the training and testing sets\n",
    "    X_train = train_set.drop('Outcome', axis=1)\n",
    "    y_train = train_set['Outcome']\n",
    "    X_test = test_set.drop('Outcome', axis=1)\n",
    "    y_test = test_set['Outcome']\n",
    "\n",
    "    # create a QDA model and fit it to the training data\n",
    "    qda = QDA()\n",
    "    qda.fit(X_train, y_train)\n",
    "\n",
    "    # make predictions on the testing data\n",
    "    y_pred = qda.predict(X_test)\n",
    "\n",
    "    # evaluate the accuracy of the model\n",
    "    accuracy = accuracy_score(y_test, y_pred)\n",
    "    print(\"Iteration:\", i+1, \"Accuracy:\", accuracy)\n",
    "\n",
    "    len_training.append(len(train_set))\n",
    "    len_testing.append(len(test_set))\n",
    "\n",
    "print(\"Average training set size:\", statistics.mean(len_training))\n",
    "print(\"Average testing set size:\", statistics.mean(len_testing))\n"
   ]
  },
  {
   "cell_type": "markdown",
   "id": "1572a6d9",
   "metadata": {},
   "source": [
    "# Q10"
   ]
  },
  {
   "cell_type": "code",
   "execution_count": null,
   "id": "eb064be0",
   "metadata": {},
   "outputs": [],
   "source": [
    "#a"
   ]
  },
  {
   "cell_type": "code",
   "execution_count": null,
   "id": "f5143684",
   "metadata": {},
   "outputs": [],
   "source": [
    "import statistics\n",
    "import numpy as np\n",
    "from sklearn.svm import SVC\n",
    "from sklearn.model_selection import train_test_split\n",
    "from sklearn.metrics import accuracy_score\n",
    "\n",
    "# Assuming that the data is loaded into a variable called 'pima_data'\n",
    "negative = pima_data[pima_data['Outcome']==0]\n",
    "positive = pima_data[pima_data['Outcome']==1]\n",
    "\n",
    "neg_Pregnancies = negative['Pregnancies'][:]\n",
    "neg_Glucose = negative['Glucose'][:]\n",
    "neg_BloodPressure = negative['BloodPressure'][:]\n",
    "neg_SkinThickness = negative['SkinThickness'][:]\n",
    "neg_Insulin = negative['Insulin'][:]\n",
    "neg_BMI = negative['BMI'][:]\n",
    "neg_DiabetesPedigreeFunction = negative['DiabetesPedigreeFunction'][:]\n",
    "neg_Age = negative['Age'][:]\n",
    "neg_class = negative['Outcome'][:]\n",
    "negative_attributes=[neg_Pregnancies,neg_Glucose,neg_BloodPressure,neg_SkinThickness,neg_Insulin,neg_BMI,\n",
    "                     neg_DiabetesPedigreeFunction,neg_Age]\n",
    "\n",
    "pos_Pregnancies = positive['Pregnancies'][:]\n",
    "pos_Glucose = positive['Glucose'][:]\n",
    "pos_BloodPressure = positive['BloodPressure'][:]\n",
    "pos_SkinThickness = positive['SkinThickness'][:]\n",
    "pos_Insulin = positive['Insulin'][:]\n",
    "pos_BMI = positive['BMI'][:]\n",
    "pos_DiabetesPedigreeFunction = positive['DiabetesPedigreeFunction'][:]\n",
    "pos_Age = positive['Age'][:]\n",
    "pos_class = positive['Outcome'][:]\n",
    "positive_attributes=[pos_Pregnancies,pos_Glucose,pos_BloodPressure,pos_SkinThickness,pos_Insulin,pos_BMI,\n",
    "                     pos_DiabetesPedigreeFunction,pos_Age]\n",
    "\n",
    "neg_means=[]\n",
    "neg_stds=[]\n",
    "pos_means=[]\n",
    "pos_stds=[]\n",
    "\n",
    "for att in negative_attributes:\n",
    "    neg_means.append(statistics.mean(att))\n",
    "    neg_stds.append(np.std(att))\n",
    "    \n",
    "for att in positive_attributes:\n",
    "    pos_means.append(statistics.mean(att))\n",
    "    pos_stds.append(np.std(att))\n",
    "\n",
    "neg_df = pd.DataFrame({'mean' : neg_means,'std' : neg_stds},\n",
    "                       index=['Pregnancies','Glucose', 'BloodPressure','SkinThickness','Insulin','BMI','DiabetesPedigreeFunction','Age'])\n",
    "\n",
    "pos_df = pd.DataFrame({'mean' : pos_means,'std' : pos_stds},\n",
    "                       index=['Pregnancies','Glucose', 'BloodPressure','SkinThickness','Insulin','BMI','DiabetesPedigreeFunction','Age'])\n",
    "\n",
    "# Split the data into training and testing sets\n",
    "X = pima_data.drop('Outcome', axis=1)\n",
    "y = pima_data['Outcome']\n",
    "X_train, X_test, y_train, y_test = train_test_split(X, y, test_size=0.2, random_state=42)\n",
    "\n",
    "# normalize the data using z-score normalization\n",
    "X_train_norm = (X_train - neg_df['mean']) / neg_df['std']\n",
    "X_test_norm = (X_test - neg_df['mean']) / neg_df['std']\n",
    "\n",
    "# create an SVM model with linear kernel and fit it to the normalized training data\n",
    "svm_linear = SVC(kernel='linear')\n",
    "svm_linear.fit(X_train_norm, y_train)\n",
    "\n",
    "# make predictions on the normalized testing data using the linear kernel model\n",
    "y_pred_linear = svm_linear.predict(X_test_norm)\n",
    "\n",
    "# evaluate the accuracy of the linear kernel model\n",
    "accuracy_linear = accuracy_score(y_test, y_pred_linear)\n",
    "print(\"Linear Kernel Accuracy:\", accuracy_linear)\n",
    "\n",
    "# create an SVM model with RBF kernel and fit it to the normalized training data\n",
    "svm_rbf = SVC(kernel='rbf')\n",
    "svm_rbf.fit(X_train_norm, y_train)\n",
    "\n",
    "# make predictions on the normalized testing data using the RBF kernel model\n",
    "y_pred_rbf = svm_rbf.predict(X_test_norm)\n",
    "\n",
    "# evaluate the accuracy of the RBF kernel model\n",
    "accuracy_rbf = accuracy_score(y_test, y_pred_rbf)\n",
    "print(\"RBF Kernel Accuracy:\", accuracy_rbf)\n"
   ]
  },
  {
   "cell_type": "code",
   "execution_count": null,
   "id": "9a56e27c",
   "metadata": {},
   "outputs": [],
   "source": [
    "#b"
   ]
  },
  {
   "cell_type": "code",
   "execution_count": null,
   "id": "7a216c93",
   "metadata": {},
   "outputs": [],
   "source": [
    "import statistics\n",
    "import random\n",
    "import numpy as np\n",
    "from sklearn.svm import SVC\n",
    "from sklearn.metrics import accuracy_score\n",
    "\n",
    "def divideset1(ds, p_train):\n",
    "    training = []\n",
    "    testing = []\n",
    "    for i in range(len(ds)):\n",
    "        r=random.random()\n",
    "        if r < p_train:\n",
    "            training.append(ds.iloc[i])\n",
    "        else:\n",
    "            testing.append(ds.iloc[i])\n",
    "    return (pd.DataFrame(training), pd.DataFrame(testing))\n",
    "\n",
    "num_iteration=20\n",
    "p_train=0.66\n",
    "\n",
    "len_training=[]\n",
    "len_testing=[]\n",
    "\n",
    "for i in range(num_iteration):\n",
    "    train_set, test_set = divideset1(pima_data, p_train)\n",
    "\n",
    "    # separate the target variable from the predictors in both the training and testing sets\n",
    "    X_train = train_set.drop('Outcome', axis=1)\n",
    "    y_train = train_set['Outcome']\n",
    "    X_test = test_set.drop('Outcome', axis=1)\n",
    "    y_test = test_set['Outcome']\n",
    "\n",
    "    # create an SVM model with linear kernel and fit it to the training data\n",
    "    svm_linear = SVC(kernel='linear')\n",
    "    svm_linear.fit(X_train, y_train)\n",
    "\n",
    "    # make predictions on the testing data using the linear kernel model\n",
    "    y_pred_linear = svm_linear.predict(X_test)\n",
    "\n",
    "    # evaluate the accuracy of the linear kernel model\n",
    "    accuracy_linear = accuracy_score(y_test, y_pred_linear)\n",
    "    print(\"Linear Kernel Accuracy:\", accuracy_linear)\n",
    "\n",
    "    # create an SVM model with rbf kernel and fit it to the training data\n",
    "    svm_rbf = SVC(kernel='rbf')\n",
    "    svm_rbf.fit(X_train, y_train)\n",
    "\n",
    "    # make predictions on the testing data using the rbf kernel model\n",
    "    y_pred_rbf = svm_rbf.predict(X_test)\n",
    "\n",
    "    # evaluate the accuracy of the rbf kernel model\n",
    "    accuracy_rbf = accuracy_score(y_test, y_pred_rbf)\n",
    "    print(\"RBF Kernel Accuracy:\", accuracy_rbf)\n",
    "\n",
    "    len_training.append(len(train_set))\n",
    "    len_testing.append(len(test_set))\n",
    "\n",
    "print(\"Average training set size:\", statistics)"
   ]
  },
  {
   "cell_type": "code",
   "execution_count": null,
   "id": "356e0d5e",
   "metadata": {},
   "outputs": [],
   "source": [
    "#c"
   ]
  },
  {
   "cell_type": "code",
   "execution_count": null,
   "id": "be568784",
   "metadata": {},
   "outputs": [],
   "source": [
    "import statistics\n",
    "import random\n",
    "import numpy as np\n",
    "from sklearn.svm import SVC\n",
    "from sklearn.metrics import accuracy_score\n",
    "\n",
    "def divideset2(ds, p_train):\n",
    "    training = []\n",
    "    testing = []\n",
    "    dataset_size = len(ds)\n",
    "    training_size = dataset_size * p_train; \n",
    "    trn_counter = 1\n",
    "    used_data = np.zeros((dataset_size, 1))\n",
    "\n",
    "    while trn_counter < training_size:\n",
    "        d=[i for i in range(dataset_size)]\n",
    "        rnd = random.choice(d)\n",
    "        if used_data[rnd] == 0:\n",
    "            used_data[rnd] = 1\n",
    "            trn_counter = trn_counter + 1\n",
    "            training.append(ds.iloc[rnd])\n",
    "        \n",
    "    for i in range(dataset_size):\n",
    "        if used_data[i] == 0:\n",
    "            testing.append(ds.iloc[i])\n",
    "            \n",
    "    return (pd.DataFrame(training), pd.DataFrame(testing))\n",
    "\n",
    "num_iteration=20\n",
    "p_train=0.66\n",
    "\n",
    "len_training=[]\n",
    "len_testing=[]\n",
    "\n",
    "for i in range(num_iteration):\n",
    "    train_set, test_set = divideset2(pima_data, p_train)\n",
    "\n",
    "    # separate the target variable from the predictors in both the training and testing sets\n",
    "    X_train = train_set.drop('Outcome', axis=1)\n",
    "    y_train = train_set['Outcome']\n",
    "    X_test = test_set.drop('Outcome', axis=1)\n",
    "    y_test = test_set['Outcome']\n",
    "\n",
    "    # create an SVM model with linear kernel and fit it to the training data\n",
    "    svm_linear = SVC(kernel='linear')\n",
    "    svm_linear.fit(X_train, y_train)\n",
    "\n",
    "    # make predictions on the testing data using the linear kernel model\n",
    "    y_pred_linear = svm_linear.predict(X_test)\n",
    "\n",
    "    # evaluate the accuracy of the linear kernel model\n",
    "    accuracy_linear = accuracy_score(y_test, y_pred_linear)\n",
    "    print(\"Linear Kernel Accuracy:\", accuracy_linear)\n",
    "\n",
    "    # create an SVM model with rbf kernel and fit it to the training data\n",
    "    svm_rbf = SVC(kernel='rbf')\n",
    "    svm_rbf.fit(X_train, y_train)\n",
    "\n",
    "    # make predictions on the testing data using the rbf kernel model\n",
    "    y_pred_rbf = svm_rbf.predict(X_test)\n",
    "\n",
    "    # evaluate the accuracy of the rbf kernel model\n",
    "    accuracy_rbf = accuracy_score(y_test, y_pred_rbf)\n",
    "    print(\"RBF Kernel Accuracy:\", accuracy_rbf)\n",
    "\n",
    "    len_training.append(len(train_set))\n",
    "    len_testing.append(len(test_set))\n",
    "\n",
    "print(\"Average training set size:\", statistics.mean(len_training))\n",
    "print(\"Average testing set size:\", statistics.mean(len_testing))\n"
   ]
  },
  {
   "cell_type": "markdown",
   "id": "b5464dac",
   "metadata": {},
   "source": [
    "# Q11"
   ]
  },
  {
   "cell_type": "markdown",
   "id": "6a1efa27",
   "metadata": {},
   "source": [
    "# THe answer for questions after 7"
   ]
  },
  {
   "cell_type": "code",
   "execution_count": null,
   "id": "e1072eff",
   "metadata": {},
   "outputs": [],
   "source": [
    "# import necessary libraries\n",
    "from sklearn.svm import SVC\n",
    "from sklearn.model_selection import train_test_split\n",
    "from sklearn.metrics import roc_curve, roc_auc_score\n",
    "from sklearn.discriminant_analysis import QuadraticDiscriminantAnalysis as QDA\n",
    "from sklearn.naive_bayes import GaussianNB\n",
    "from sklearn.linear_model import LogisticRegression\n",
    "import matplotlib.pyplot as plt\n",
    "\n",
    "\n",
    "# create and fit models\n",
    "svm_linear = SVC(kernel='linear')\n",
    "svm_linear.fit(X_train, y_train)\n",
    "\n",
    "svm_rbf = SVC(kernel='rbf')\n",
    "svm_rbf.fit(X_train, y_train)\n",
    "\n",
    "qda = QDA()\n",
    "qda.fit(X_train, y_train)\n",
    "\n",
    "nb = GaussianNB()\n",
    "nb.fit(X_train, y_train)\n",
    "\n",
    "lr = LogisticRegression()\n",
    "lr.fit(X_train, y_train)\n",
    "\n",
    "# make predictions on the testing data using each model\n",
    "y_pred_svm_linear = svm_linear.decision_function(X_test)\n",
    "y_pred_svm_rbf = svm_rbf.decision_function(X_test)\n",
    "y_pred_qda = qda.predict_proba(X_test)[:, 1]\n",
    "y_pred_nb = nb.predict_proba(X_test)[:, 1]\n",
    "y_pred_lr = lr.predict_proba(X_test)[:, 1]\n",
    "\n",
    "# calculate the ROC curve and AUC score for each model\n",
    "fpr_svm_linear, tpr_svm_linear, _ = roc_curve(y_test, y_pred_svm_linear)\n",
    "auc_svm_linear = roc_auc_score(y_test, y_pred_svm_linear)\n",
    "\n",
    "fpr_svm_rbf, tpr_svm_rbf, _ = roc_curve(y_test, y_pred_svm_rbf)\n",
    "auc_svm_rbf = roc_auc_score(y_test, y_pred_svm_rbf)\n",
    "\n",
    "fpr_qda, tpr_qda, _ = roc_curve(y_test, y_pred_qda)\n",
    "auc_qda = roc_auc_score(y_test, y_pred_qda)\n",
    "\n",
    "fpr_nb, tpr_nb, _ = roc_curve(y_test, y_pred_nb)\n",
    "auc_nb = roc_auc_score(y_test, y_pred_nb)\n",
    "\n",
    "fpr_lr, tpr_lr, _ = roc_curve(y_test, y_pred_lr)\n",
    "auc_lr = roc_auc_score(y_test, y_pred_lr)\n",
    "\n",
    "# plot the ROC curves for all models\n",
    "plt.plot(fpr_svm_linear, tpr_svm_linear, label=\"SVM Linear Kernel (AUC = {:.3f})\".format(auc_svm_linear))\n",
    "plt.plot(fpr_svm_rbf, tpr_svm_rbf, label=\"SVM RBF Kernel (AUC = {:.3f})\".format(auc_svm_rbf))\n",
    "plt.plot(fpr_qda, tpr_qda, label=\"QDA (AUC = {:.3f})\".format(auc_qda))\n",
    "plt.plot(fpr_nb, tpr_nb, label=\"Naive Bayes (AUC = {:.3f})\".format(auc_nb))\n",
    "plt.plot(fpr_lr, tpr_lr, label=\"Linear Regression (AUC = {:.3f})\".format(auc_lr))\n",
    "\n",
    "# add labels and legend to the plot\n",
    "plt.xlabel(\"False Positive Rate\")\n",
    "plt.ylabel(\"True Positive Rate\")\n",
    "plt.title(\"ROC Curve for Pima Diabetes Dataset\")\n",
    "plt.legend()\n",
    "\n",
    "# show the plot\n",
    "plt.show()\n"
   ]
  },
  {
   "cell_type": "code",
   "execution_count": null,
   "id": "ea0a2958",
   "metadata": {},
   "outputs": [],
   "source": [
    "#best model is svm linear kernel because its auc is higher"
   ]
  }
 ],
 "metadata": {
  "kernelspec": {
   "display_name": "Python 3 (ipykernel)",
   "language": "python",
   "name": "python3"
  },
  "language_info": {
   "codemirror_mode": {
    "name": "ipython",
    "version": 3
   },
   "file_extension": ".py",
   "mimetype": "text/x-python",
   "name": "python",
   "nbconvert_exporter": "python",
   "pygments_lexer": "ipython3",
   "version": "3.9.1"
  }
 },
 "nbformat": 4,
 "nbformat_minor": 5
}
